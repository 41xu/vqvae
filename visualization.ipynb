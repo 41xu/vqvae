{
 "cells": [
  {
   "cell_type": "markdown",
   "metadata": {},
   "source": [
    "# Load model, parameters, performance metrics"
   ]
  },
  {
   "cell_type": "code",
   "execution_count": null,
   "metadata": {},
   "outputs": [],
   "source": [
    "import os\n",
    "import torch\n",
    "import argparse\n",
    "from models.vqvae import VQVAE\n",
    "import matplotlib.pyplot as plt\n",
    "import matplotlib.image as mpimg\n",
    "from torchvision.utils import make_grid\n",
    "import numpy as np\n",
    "\n",
    "%matplotlib inline\n",
    "device = torch.device(\"cuda\" if torch.cuda.is_available() else \"cpu\")\n",
    "\n",
    "\"\"\"\n",
    "Utility functions\n",
    "\"\"\"\n",
    "\n",
    "def load_model(model_filename):\n",
    "    path = os.getcwd() + '/results/'\n",
    "    \n",
    "    if torch.cuda.is_available():\n",
    "        data = torch.load(path + model_filename)\n",
    "    else:\n",
    "        data = torch.load(path+model_filename,map_location=lambda storage, loc: storage)\n",
    "    \n",
    "    params = data[\"hyperparameters\"]\n",
    "    \n",
    "    model = VQVAE(params['n_hiddens'], params['n_residual_hiddens'],\n",
    "                  params['n_residual_layers'], params['n_embeddings'], \n",
    "                  params['embedding_dim'], params['beta']).to(device)\n",
    "\n",
    "    model.load_state_dict(data['model'])\n",
    "    \n",
    "    return model, data\n",
    "\n",
    "from scipy.signal import savgol_filter\n",
    "\n",
    "def plot_metrics(data):\n",
    "    results = data[\"results\"]\n",
    "    recon_errors = savgol_filter(results[\"recon_errors\"], 19, 5)\n",
    "    perplexities = savgol_filter(results[\"perplexities\"], 19, 5)\n",
    "    loss_vals = savgol_filter(results[\"loss_vals\"], 19, 5)\n",
    "\n",
    "\n",
    "    f = plt.figure(figsize=(16,4))\n",
    "    ax = f.add_subplot(1,3,2)\n",
    "    ax.plot(recon_errors)\n",
    "    ax.set_yscale('log')\n",
    "    ax.set_title('Reconstruction Error')\n",
    "    ax.set_xlabel('iteration')\n",
    "\n",
    "    ax = f.add_subplot(1,3,3)\n",
    "    ax.plot(perplexities)\n",
    "    ax.set_title('Average codebook usage (perplexity).')\n",
    "    ax.set_xlabel('iteration')\n",
    "\n",
    "    ax = f.add_subplot(1,3,1)\n",
    "    ax.plot(loss_vals)\n",
    "    ax.set_yscale('log')\n",
    "    ax.set_title('Overall Loss')\n",
    "    ax.set_xlabel('iteration')\n",
    "    \n",
    "def display_image_grid(x):\n",
    "    x = make_grid(x_val_recon.cpu().detach()+0.5)\n",
    "    x = x.numpy()\n",
    "    fig = plt.imshow(np.transpose(x, (1,2,0)), interpolation='nearest')\n",
    "    fig.axes.get_xaxis().set_visible(False)\n",
    "    fig.axes.get_yaxis().set_visible(False)\n",
    "    \n",
    "def reconstruct(data_loader,model):\n",
    "    (x, _) = next(iter(data_loader))\n",
    "    x = x.to(device)\n",
    "    vq_encoder_output = model.pre_quantization_conv(model.encoder(x))\n",
    "    _, x_quant, _, _ = model.vector_quantization(vq_encoder_output)\n",
    "    x_recon = model.decoder(x_quant)\n",
    "    return x,x_recon, x_quant\n",
    "\n",
    "\"\"\"\n",
    "End of utilities\n",
    "\"\"\"\n",
    "\n",
    "model_filename = 'vqvae_data_2embeddings1edim.pth'\n",
    "\n",
    "model,vqvae_data = load_model(model_filename)\n"
   ]
  },
  {
   "cell_type": "code",
   "execution_count": null,
   "metadata": {},
   "outputs": [],
   "source": [
    "!ls results/"
   ]
  },
  {
   "cell_type": "markdown",
   "metadata": {},
   "source": [
    "# Load dataset and loaders"
   ]
  },
  {
   "cell_type": "code",
   "execution_count": null,
   "metadata": {},
   "outputs": [],
   "source": [
    "import utils\n",
    "training_data, validation_data, training_loader, validation_loader, x_train_var = utils.load_data_and_data_loaders('BLOCK', 32)"
   ]
  },
  {
   "cell_type": "markdown",
   "metadata": {},
   "source": [
    "# Reconstruct validation data"
   ]
  },
  {
   "cell_type": "code",
   "execution_count": null,
   "metadata": {},
   "outputs": [],
   "source": [
    "x_val,x_val_recon,_ = reconstruct(validation_loader,model)"
   ]
  },
  {
   "cell_type": "code",
   "execution_count": null,
   "metadata": {},
   "outputs": [],
   "source": [
    "display_image_grid(x_val)"
   ]
  },
  {
   "cell_type": "code",
   "execution_count": null,
   "metadata": {},
   "outputs": [],
   "source": [
    "display_image_grid(x_val_recon)\n"
   ]
  },
  {
   "cell_type": "markdown",
   "metadata": {},
   "source": [
    "# Smoothed Loss and Perplexity Values"
   ]
  },
  {
   "cell_type": "code",
   "execution_count": null,
   "metadata": {},
   "outputs": [],
   "source": [
    "plot_metrics(vqvae_data)"
   ]
  },
  {
   "cell_type": "code",
   "execution_count": null,
   "metadata": {},
   "outputs": [],
   "source": [
    "x_val,x_val_recon,x_quant = reconstruct(validation_loader,model)"
   ]
  },
  {
   "cell_type": "code",
   "execution_count": null,
   "metadata": {},
   "outputs": [],
   "source": [
    "x_quant[0,:,0,0]"
   ]
  },
  {
   "cell_type": "code",
   "execution_count": null,
   "metadata": {},
   "outputs": [],
   "source": []
  }
 ],
 "metadata": {
  "kernelspec": {
   "display_name": "Python 3",
   "language": "python",
   "name": "python3"
  },
  "language_info": {
   "codemirror_mode": {
    "name": "ipython",
    "version": 3
   },
   "file_extension": ".py",
   "mimetype": "text/x-python",
   "name": "python",
   "nbconvert_exporter": "python",
   "pygments_lexer": "ipython3",
   "version": "3.6.8"
  }
 },
 "nbformat": 4,
 "nbformat_minor": 2
}
