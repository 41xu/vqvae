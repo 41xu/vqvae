{
 "cells": [
  {
   "cell_type": "markdown",
   "metadata": {},
   "source": [
    "# Load model, parameters, performance metrics"
   ]
  },
  {
   "cell_type": "code",
   "execution_count": 33,
   "metadata": {},
   "outputs": [],
   "source": [
    "import os\n",
    "import torch\n",
    "import argparse\n",
    "from vqvae.models.vqvae import VQVAE,TemporalVQVAE\n",
    "import matplotlib.pyplot as plt\n",
    "import matplotlib.image as mpimg\n",
    "from torchvision.utils import make_grid\n",
    "import numpy as np\n",
    "from vqvae import utils\n",
    "\n",
    "\n",
    "%matplotlib inline\n",
    "device = torch.device(\"cuda\" if torch.cuda.is_available() else \"cpu\")\n",
    "\n",
    "\"\"\"\n",
    "Utility functions\n",
    "\"\"\"\n",
    "\n",
    "def load_model(model_filename,temporal=False):\n",
    "    path = os.getcwd() + '/results/'\n",
    "    os.getcwd()\n",
    "    if torch.cuda.is_available():\n",
    "        data = torch.load(path + model_filename)\n",
    "    else:\n",
    "        data = torch.load(path+model_filename,map_location=lambda storage, loc: storage)\n",
    "    \n",
    "    params = data[\"hyperparameters\"]\n",
    "    \n",
    "    if temporal:\n",
    "        model = TemporalVQVAE(params['n_hiddens'], params['n_residual_hiddens'],\n",
    "                      params['n_residual_layers'], params['n_embeddings'], \n",
    "                      params['embedding_dim'], params['beta']).to(device)    \n",
    "    else:\n",
    "        model = VQVAE(params['n_hiddens'], params['n_residual_hiddens'],\n",
    "                      params['n_residual_layers'], params['n_embeddings'], \n",
    "                      params['embedding_dim'], params['beta']).to(device)\n",
    "\n",
    "    model.load_state_dict(data['model'])\n",
    "    \n",
    "    return model, data\n",
    "\n",
    "from scipy.signal import savgol_filter\n",
    "\n",
    "def plot_metrics(data):\n",
    "    results = data[\"results\"]\n",
    "    recon_errors = savgol_filter(results[\"recon_errors\"], 19, 5)\n",
    "    perplexities = savgol_filter(results[\"perplexities\"], 19, 5)\n",
    "    loss_vals = savgol_filter(results[\"loss_vals\"], 19, 5)\n",
    "\n",
    "\n",
    "    f = plt.figure(figsize=(16,4))\n",
    "    ax = f.add_subplot(1,3,2)\n",
    "    ax.plot(recon_errors)\n",
    "    ax.set_yscale('log')\n",
    "    ax.set_title('Reconstruction Error')\n",
    "    ax.set_xlabel('iteration')\n",
    "\n",
    "    ax = f.add_subplot(1,3,3)\n",
    "    ax.plot(perplexities)\n",
    "    ax.set_title('Average codebook usage (perplexity).')\n",
    "    ax.set_xlabel('iteration')\n",
    "\n",
    "    ax = f.add_subplot(1,3,1)\n",
    "    ax.plot(loss_vals)\n",
    "    ax.set_yscale('log')\n",
    "    ax.set_title('Overall Loss')\n",
    "    ax.set_xlabel('iteration')\n",
    "    \n",
    "def display_image_grid(x,nrow=8):\n",
    "    x = make_grid(x.cpu().detach()+0.5,nrow=nrow)\n",
    "    x = x.numpy()\n",
    "    fig = plt.imshow(np.transpose(x, (1,2,0)), interpolation='nearest')\n",
    "    fig.axes.get_xaxis().set_visible(False)\n",
    "    fig.axes.get_yaxis().set_visible(False)\n",
    "    \n",
    "def reconstruct(data_loader,model):\n",
    "    (x, _) = next(iter(data_loader))\n",
    "    x = x.to(device)\n",
    "    vq_encoder_output = model.pre_quantization_conv(model.encoder(x))\n",
    "    _, z_q, _, _,e_indices = model.vector_quantization(vq_encoder_output)\n",
    "    x_recon = model.decoder(z_q)\n",
    "\n",
    "    return x,x_recon, z_q,e_indices\n",
    "\n",
    "\"\"\"\n",
    "End of utilities\n",
    "\"\"\"\n",
    "\n",
    "#model_filename = 'vqvae_data_static_block_data_ne512_de64_1000.pth'\n",
    "model_filename = 'vqvae_temporal_data_long_ne8nd2.pth'\n",
    "\n",
    "model,vqvae_data = load_model(model_filename,temporal=True)\n",
    "\n"
   ]
  },
  {
   "cell_type": "markdown",
   "metadata": {},
   "source": [
    "# Load dataset and loaders"
   ]
  },
  {
   "cell_type": "code",
   "execution_count": 13,
   "metadata": {},
   "outputs": [
    {
     "name": "stdout",
     "output_type": "stream",
     "text": [
      "Loading data\n",
      "Done loading data\n",
      "Loading data\n",
      "Done loading data\n"
     ]
    }
   ],
   "source": [
    "from vqvae import utils\n",
    "data_file_path = '/home/misha/research/vqvae/data/point_mass_length100_paths_2000.npy'\n",
    "\n",
    "training_data, validation_data, training_loader, validation_loader, x_train_var = utils.load_data_and_data_loaders('POINTMASS',data_file_path, 32)"
   ]
  },
  {
   "cell_type": "markdown",
   "metadata": {},
   "source": [
    "# Reconstruct validation data"
   ]
  },
  {
   "cell_type": "code",
   "execution_count": 34,
   "metadata": {},
   "outputs": [
    {
     "name": "stderr",
     "output_type": "stream",
     "text": [
      "Clipping input data to the valid range for imshow with RGB data ([0..1] for floats or [0..255] for integers).\n"
     ]
    },
    {
     "name": "stdout",
     "output_type": "stream",
     "text": [
      "torch.cuda.FloatTensor torch.Size([32, 3, 32, 32]) torch.Size([32, 2, 8, 8]) torch.Size([2048, 1])\n"
     ]
    },
    {
     "data": {
      "image/png": "[encoded data removed]",
      "text/plain": [
       "<Figure size 432x288 with 1 Axes>"
      ]
     },
     "metadata": {
      "needs_background": "light"
     },
     "output_type": "display_data"
    }
   ],
   "source": [
    "x_val,x_val_recon,z_q,e_indices = reconstruct(validation_loader,model)\n",
    "print(x_val.type(),x_val_recon.shape,z_q.shape,e_indices.shape)\n",
    "display_image_grid(x_val)\n"
   ]
  },
  {
   "cell_type": "code",
   "execution_count": 35,
   "metadata": {},
   "outputs": [
    {
     "name": "stderr",
     "output_type": "stream",
     "text": [
      "Clipping input data to the valid range for imshow with RGB data ([0..1] for floats or [0..255] for integers).\n"
     ]
    },
    {
     "data": {
      "image/png": "[encoded data removed]",
      "text/plain": [
       "<Figure size 432x288 with 1 Axes>"
      ]
     },
     "metadata": {
      "needs_background": "light"
     },
     "output_type": "display_data"
    }
   ],
   "source": [
    "display_image_grid(x_val_recon)\n"
   ]
  },
  {
   "cell_type": "markdown",
   "metadata": {},
   "source": [
    "# Smoothed Loss and Perplexity Values"
   ]
  },
  {
   "cell_type": "code",
   "execution_count": 36,
   "metadata": {},
   "outputs": [
    {
     "data": {
      "image/png": "[encoded data removed]",
      "text/plain": [
       "<Figure size 1152x288 with 3 Axes>"
      ]
     },
     "metadata": {
      "needs_background": "light"
     },
     "output_type": "display_data"
    }
   ],
   "source": [
    "plot_metrics(vqvae_data)"
   ]
  },
  {
   "cell_type": "code",
   "execution_count": 20,
   "metadata": {},
   "outputs": [],
   "source": [
    "from torch.utils.data import DataLoader\n",
    "\n",
    "train_loader = DataLoader(training_data,\n",
    "                          batch_size=200,\n",
    "                          shuffle=False,\n",
    "                          pin_memory=True)\n",
    "\n",
    "#for i,data in enumerate(iter(train_loader)):\n",
    "#    print('batch',i,'data',data[0].shape,end='\\r')\n",
    "    "
   ]
  },
  {
   "cell_type": "code",
   "execution_count": 30,
   "metadata": {},
   "outputs": [
    {
     "data": {
      "text/plain": [
       "torch.Size([200, 32, 32])"
      ]
     },
     "execution_count": 30,
     "metadata": {},
     "output_type": "execute_result"
    }
   ],
   "source": [
    "x[:,0,:,:].shape"
   ]
  },
  {
   "cell_type": "code",
   "execution_count": 32,
   "metadata": {},
   "outputs": [
    {
     "name": "stdout",
     "output_type": "stream",
     "text": [
      "0 0.38613865\n",
      "1 0.37851033\n",
      "2 0.36847308\n",
      "3 0.36021814\n",
      "4 0.35470426\n",
      "5 0.34839547\n",
      "6 0.33911866\n",
      "7 0.33865833\n",
      "8 0.33300945\n",
      "9 0.32894912\n",
      "10 0.32457677\n",
      "11 0.32233202\n",
      "12 0.3213237\n",
      "13 0.3214323\n",
      "14 0.32191518\n",
      "15 0.3248188\n",
      "16 0.3287617\n",
      "17 0.33118674\n",
      "18 0.3309285\n",
      "19 0.331073\n",
      "20 0.32941034\n",
      "21 0.33013806\n",
      "22 0.32642922\n",
      "23 0.3296239\n",
      "24 0.32597682\n",
      "25 0.32161695\n",
      "26 0.32343063\n",
      "27 0.32048962\n",
      "28 0.3180238\n",
      "29 0.31885582\n",
      "30 0.3098084\n",
      "31 0.30511573\n",
      "32 0.2880693\n",
      "33 0.28886047\n",
      "34 0.27811795\n",
      "35 0.27575153\n",
      "36 0.27939847\n",
      "37 0.27869675\n",
      "38 0.27870053\n",
      "39 0.27038854\n",
      "40 0.26351634\n",
      "41 0.25680017\n",
      "42 0.24815562\n",
      "43 0.23774208\n",
      "44 0.23501086\n",
      "45 0.22719564\n",
      "46 0.20959415\n",
      "47 0.1951022\n",
      "48 0.16402526\n",
      "49 0.13902189\n",
      "50 0.1253468\n",
      "51 0.09959882\n",
      "52 0.06688202\n",
      "53 0.04519901\n",
      "54 0.022292249\n",
      "55 0.042255614\n",
      "56 0.06247932\n",
      "57 0.07440524\n",
      "58 0.087036096\n",
      "59 0.105541095\n",
      "60 0.113645114\n",
      "61 0.10785643\n",
      "62 0.10429146\n",
      "63 0.10985991\n",
      "64 0.12189677\n",
      "65 0.1308916\n",
      "66 0.1511977\n",
      "67 0.15640795\n",
      "68 0.15563549\n",
      "69 0.14609443\n",
      "70 0.13616168\n",
      "71 0.12209051\n",
      "72 0.11685789\n",
      "73 0.114994235\n",
      "74 0.107070215\n",
      "75 0.12294904\n",
      "76 0.12008778\n",
      "77 0.12677868\n",
      "78 0.12280704\n",
      "79 0.11870782\n",
      "80 0.11129395\n",
      "81 0.09438625\n",
      "82 0.08364119\n",
      "83 0.07963619\n",
      "84 0.070986316\n",
      "85 0.07127323\n",
      "86 0.05998158\n",
      "87 0.054084018\n",
      "88 0.043150973\n",
      "89 0.040875945\n",
      "90 0.03768952\n",
      "91 0.033981785\n",
      "92 0.03723013\n",
      "93 0.036808882\n",
      "94 0.03818187\n",
      "95 0.026160717\n",
      "96 0.02111448\n",
      "97 0.0024734852\n",
      "98 0.0050841398\n",
      "99 0.0\n",
      "100 0.39165953\n",
      "101 0.39211372\n",
      "102 0.39360422\n",
      "103 0.38991722\n",
      "104 0.39015287\n",
      "105 0.3914957\n",
      "106 0.4003929\n",
      "107 0.40284604\n",
      "108 0.40101212\n",
      "109 0.3953526\n",
      "110 0.39070144\n",
      "111 0.38747668\n",
      "112 0.3780337\n",
      "113 0.37307015\n",
      "114 0.3672915\n",
      "115 0.368032\n",
      "116 0.36812788\n",
      "117 0.3610389\n",
      "118 0.3558578\n",
      "119 0.34406102\n",
      "120 0.3357787\n",
      "121 0.33219895\n",
      "122 0.3307594\n",
      "123 0.32826135\n",
      "124 0.3247437\n",
      "125 0.31815818\n",
      "126 0.32806268\n",
      "127 0.32390526\n",
      "128 0.30705416\n",
      "129 0.281826\n",
      "130 0.28979728\n",
      "131 0.27091536\n",
      "132 0.26477712\n",
      "133 0.26116267\n",
      "134 0.26407394\n",
      "135 0.27698573\n",
      "136 0.29794982\n",
      "137 0.2985363\n",
      "138 0.30043185\n",
      "139 0.2970966\n",
      "140 0.27396846\n",
      "141 0.26302254\n",
      "142 0.2516886\n",
      "143 0.23893864\n",
      "144 0.22637849\n",
      "145 0.21987253\n",
      "146 0.20647356\n",
      "147 0.2047047\n",
      "148 0.1967769\n",
      "149 0.18775325\n",
      "150 0.1883404\n",
      "151 0.19037843\n",
      "152 0.19137175\n",
      "153 0.19211118\n",
      "154 0.18855898\n",
      "155 0.18421528\n",
      "156 0.1790055\n",
      "157 0.17722069\n",
      "158 0.17781813\n",
      "159 0.1840613\n",
      "160 0.18787055\n",
      "161 0.18904576\n",
      "162 0.18732125\n",
      "163 0.1848966\n",
      "164 0.18080652\n",
      "165 0.17968094\n",
      "166 0.17930818\n",
      "167 0.17105338\n",
      "168 0.17186019\n",
      "169 0.17994106\n",
      "170 0.18233436\n",
      "171 0.18936613\n",
      "172 0.19124804\n",
      "173 0.18385825\n",
      "174 0.17245351\n",
      "175 0.16496845\n",
      "176 0.16348805\n",
      "177 0.1606734\n",
      "178 0.15630126\n",
      "179 0.15011817\n",
      "180 0.1380783\n",
      "181 0.12799491\n",
      "182 0.12302922\n",
      "183 0.11869267\n",
      "184 0.1059512\n",
      "185 0.10491044\n",
      "186 0.09781689\n",
      "187 0.092074044\n",
      "188 0.09048423\n",
      "189 0.091523975\n",
      "190 0.09335803\n",
      "191 0.090706885\n",
      "192 0.089520946\n",
      "193 0.08724179\n",
      "194 0.07706327\n",
      "195 0.064657174\n",
      "196 0.05119087\n",
      "197 0.036912274\n",
      "198 0.020984586\n",
      "199 0.0\n",
      "(2, 8, 8)\n"
     ]
    }
   ],
   "source": [
    "(x,_) = next(iter(train_loader))\n",
    "x = x.to(device)\n",
    "z_e = model.pre_quantization_conv(model.encoder(x)).detach().cpu().numpy()\n",
    "for i,z in enumerate(z_e):\n",
    "    \n",
    "    print(i,np.linalg.norm(z-z_e[-1 if i > 99 else 99]))\n",
    "    \n",
    "print(z_e[-1].shape)"
   ]
  },
  {
   "cell_type": "markdown",
   "metadata": {},
   "source": [
    "# Sampling from latent space $z$\n",
    "\n",
    "Sampling from VQ VAEs is more subtle than normal sampling schemes. To elucidate this point we'll present three sampling schemes:\n",
    "\n",
    "1. Uniform sampling\n",
    "2. Categorical sampling from a histogram \n",
    "3. Sampling with an autoregressive PixelCNN\n",
    "\n",
    "Sampling scheme (1) produces scrambled results, because only a small percentage of all possible representations are actually utilized. If you sample uniformly, you will most likely get results outside of the data distribution, which is why they appear random.\n",
    "\n",
    "Sampling scheme (2) collects a histogram of representations and samples from the histogram. This works but is also incorrect because it limits us to only representations seen during construction of the histogram. Note that if $N_{\\text{histogram}} \\rightarrow \\infty $ then this scheme will work, but since we can't actually do this, we want a better way to approximate the disribution of our representation space.\n",
    "\n",
    "Scheme (3) is more complex but provides a principled way of sampling from the latent space. We train a Gated PixelCNN to approximate the distribution of the latent space. \n",
    "\n"
   ]
  },
  {
   "cell_type": "code",
   "execution_count": 218,
   "metadata": {},
   "outputs": [
    {
     "data": {
      "text/plain": [
       "{'batch_size': 64,\n",
       " 'n_updates': 15000,\n",
       " 'n_hiddens': 128,\n",
       " 'n_residual_hiddens': 32,\n",
       " 'n_residual_layers': 2,\n",
       " 'embedding_dim': 2,\n",
       " 'n_embeddings': 8,\n",
       " 'beta': 0.25,\n",
       " 'learning_rate': 0.0003,\n",
       " 'log_interval': 100,\n",
       " 'dataset': 'POINTMASS',\n",
       " 'save': True,\n",
       " 'temporal': True,\n",
       " 'filename': 'long',\n",
       " 'data_file_path': '/home/misha/research/vqvae/data/point_mass_length100_paths_2000.npy'}"
      ]
     },
     "execution_count": 218,
     "metadata": {},
     "output_type": "execute_result"
    }
   ],
   "source": [
    "params = vqvae_data['hyperparameters']\n",
    "params"
   ]
  },
  {
   "cell_type": "markdown",
   "metadata": {},
   "source": [
    "## Uniform sampling of latent space\n",
    "\n"
   ]
  },
  {
   "cell_type": "code",
   "execution_count": 219,
   "metadata": {},
   "outputs": [
    {
     "name": "stderr",
     "output_type": "stream",
     "text": [
      "Clipping input data to the valid range for imshow with RGB data ([0..1] for floats or [0..255] for integers).\n"
     ]
    },
    {
     "name": "stdout",
     "output_type": "stream",
     "text": [
      "torch.Size([2048, 1])\n"
     ]
    },
    {
     "data": {
      "image/png": "[encoded data removed]",
      "text/plain": [
       "<Figure size 432x288 with 1 Axes>"
      ]
     },
     "metadata": {
      "needs_background": "light"
     },
     "output_type": "display_data"
    }
   ],
   "source": [
    "\n",
    "def generate_samples(e_indices):\n",
    "    min_encodings = torch.zeros(e_indices.shape[0], params['n_embeddings']).to(device)\n",
    "    min_encodings.scatter_(1, e_indices, 1)\n",
    "    e_weights = model.vector_quantization.embedding.weight\n",
    "    \n",
    "    # 32 here is actually the batch size\n",
    "    z_q = torch.matmul(min_encodings, e_weights).view((32,8,8,params[\"embedding_dim\"])) \n",
    "    z_q = z_q.permute(0, 3, 1, 2).contiguous()\n",
    " \n",
    "    x_recon = model.decoder(z_q)\n",
    "    return x_recon, z_q,e_indices\n",
    "    \n",
    "\n",
    "def uniform_samples(model):\n",
    " \n",
    "    rand = np.random.randint(params['n_embeddings'], size=(2048, 1))\n",
    "    min_encoding_indices = torch.tensor(rand).long().to(device)\n",
    "    \n",
    "    print(min_encoding_indices.shape)\n",
    "    x_recon, z_q,e_indices = generate_samples(min_encoding_indices)\n",
    "    \n",
    "    return x_recon, z_q,e_indices\n",
    "\n",
    "x_val_recon,z_q,e_indices = uniform_samples(model)\n",
    "\n",
    "display_image_grid(x_val_recon)\n",
    "\n"
   ]
  },
  {
   "cell_type": "markdown",
   "metadata": {},
   "source": [
    "## Categorial Distribution Sampling"
   ]
  },
  {
   "cell_type": "code",
   "execution_count": 220,
   "metadata": {},
   "outputs": [
    {
     "name": "stderr",
     "output_type": "stream",
     "text": [
      "Clipping input data to the valid range for imshow with RGB data ([0..1] for floats or [0..255] for integers).\n"
     ]
    },
    {
     "name": "stdout",
     "output_type": "stream",
     "text": [
      "Total representations used: 2026\n"
     ]
    },
    {
     "data": {
      "image/png": "[encoded data removed]",
      "text/plain": [
       "<Figure size 432x288 with 1 Axes>"
      ]
     },
     "metadata": {
      "needs_background": "light"
     },
     "output_type": "display_data"
    }
   ],
   "source": [
    "N = 100\n",
    "\n",
    "    \n",
    "def encode_observations():\n",
    "    all_e_indices = []\n",
    "    for i in range(N):\n",
    "        _,_,_,e_indices = reconstruct(validation_loader,model)\n",
    "        all_e_indices.append(e_indices)\n",
    "\n",
    "    return torch.cat(all_e_indices)\n",
    "\n",
    "e_indices = encode_observations()\n",
    "\n",
    "def count_representations():\n",
    "    d = {}\n",
    "    for i in range(32*N):\n",
    "        k = e_indices[64*i:64*i+64].squeeze().cpu().detach().numpy()\n",
    "        k = [str(j)+'-' for j in k]\n",
    "        k = ''.join(k)\n",
    "\n",
    "        if k not in d:\n",
    "            d[k] = 1\n",
    "        else:\n",
    "            d[k]+=1\n",
    "    \n",
    "    return d\n",
    "\n",
    "hist = count_representations()\n",
    "if '' in hist: del hist['']\n",
    "\n",
    "print('Total representations used:',len(hist.keys()))\n",
    "def sample_histogram(hist):\n",
    "    keys, vals = np.array(list(hist.keys())),np.array(list(hist.values()))\n",
    "    probs = np.array(vals)/sum(vals)\n",
    "    samples = np.random.choice(keys,32,p=probs,replace=True)\n",
    "    \n",
    "    samples = np.array([np.array([int(y) for y in x.split('-')[:-1]]) for x in samples])\n",
    "    \n",
    "    return samples\n",
    "    \n",
    "samples = sample_histogram(hist)\n",
    "\n",
    "def histogram_samples(model):\n",
    "    min_encoding_indices = torch.tensor(samples).reshape(-1,1).long().to(device)\n",
    "    x_recon, z_q,e_indices = generate_samples(min_encoding_indices)\n",
    "    \n",
    "    return x_recon, z_q,e_indices\n",
    "\n",
    "x_hist,_,_ = histogram_samples(model)\n",
    "\n",
    "display_image_grid(x_hist)\n"
   ]
  },
  {
   "cell_type": "code",
   "execution_count": 221,
   "metadata": {},
   "outputs": [],
   "source": [
    "hashed_hist = {hash(k):v for k,v in hist.items()}"
   ]
  },
  {
   "cell_type": "code",
   "execution_count": 222,
   "metadata": {},
   "outputs": [
    {
     "data": {
      "text/plain": [
       "106"
      ]
     },
     "execution_count": 222,
     "metadata": {},
     "output_type": "execute_result"
    }
   ],
   "source": [
    "all_reps = np.array(list(reversed(sorted(hashed_hist.values()))))\n",
    "len(all_reps[all_reps>3])"
   ]
  },
  {
   "cell_type": "markdown",
   "metadata": {},
   "source": [
    "## The most common representation"
   ]
  },
  {
   "cell_type": "code",
   "execution_count": 156,
   "metadata": {},
   "outputs": [
    {
     "name": "stderr",
     "output_type": "stream",
     "text": [
      "Clipping input data to the valid range for imshow with RGB data ([0..1] for floats or [0..255] for integers).\n"
     ]
    },
    {
     "name": "stdout",
     "output_type": "stream",
     "text": [
      "(2048, 1)\n"
     ]
    },
    {
     "data": {
      "image/png": "[encoded data removed]",
      "text/plain": [
       "<Figure size 432x288 with 1 Axes>"
      ]
     },
     "metadata": {
      "needs_background": "light"
     },
     "output_type": "display_data"
    }
   ],
   "source": [
    "most_common_sample_index = np.argmax(list(hist.values()))\n",
    "most_common_z = np.array([int(y) for y in list(hist.keys())[most_common_sample_index].split('-')[:-1]])\n",
    "\n",
    "\n",
    "def most_common_samples(model):\n",
    "    \n",
    "    samples = np.array(list(most_common_z)*32).reshape(-1,1)\n",
    "    print(samples.shape)\n",
    "    min_encoding_indices = torch.tensor(samples).reshape(-1,1).long().to(device)\n",
    "    x_recon, z_q,e_indices = generate_samples(min_encoding_indices)\n",
    "    \n",
    "    return x_recon, z_q,e_indices\n",
    "\n",
    "\n",
    "x_val_recon,z_q,e_indices = most_common_samples(model)\n",
    "\n",
    "display_image_grid(x_val_recon)\n"
   ]
  },
  {
   "cell_type": "markdown",
   "metadata": {},
   "source": [
    "# Reconstruct from PixelCNN"
   ]
  },
  {
   "cell_type": "code",
   "execution_count": 29,
   "metadata": {},
   "outputs": [],
   "source": [
    "import os\n",
    "data_folder_path = os.getcwd() \n",
    "data_file_path = data_folder_path + '/data/latent_samples.npy'\n",
    "\n",
    "samples = np.load(data_file_path,allow_pickle=True)"
   ]
  },
  {
   "cell_type": "code",
   "execution_count": 30,
   "metadata": {},
   "outputs": [
    {
     "name": "stderr",
     "output_type": "stream",
     "text": [
      "Clipping input data to the valid range for imshow with RGB data ([0..1] for floats or [0..255] for integers).\n"
     ]
    },
    {
     "data": {
      "image/png": "[encoded data removed]",
      "text/plain": [
       "<Figure size 432x288 with 1 Axes>"
      ]
     },
     "metadata": {
      "needs_background": "light"
     },
     "output_type": "display_data"
    }
   ],
   "source": [
    "def reconstruct_from_pixelcnn(model,samples):\n",
    "    \n",
    "\n",
    "    min_encoding_indices = torch.tensor(samples).reshape(-1,1).long().to(device)\n",
    "    x_recon, z_q,e_indices = generate_samples(min_encoding_indices)\n",
    "    \n",
    "    return x_recon, z_q,e_indices\n",
    "\n",
    "\n",
    "x_val_recon,z_q,e_indices = reconstruct_from_pixelcnn(model,samples)\n",
    "\n",
    "display_image_grid(x_val_recon)"
   ]
  },
  {
   "cell_type": "markdown",
   "metadata": {},
   "source": [
    "# Representation Graph"
   ]
  },
  {
   "cell_type": "code",
   "execution_count": 4,
   "metadata": {},
   "outputs": [
    {
     "name": "stdout",
     "output_type": "stream",
     "text": [
      "loading VQ VAE model\n",
      "loading collected path data\n",
      "Loading data\n",
      "Done loading data\n",
      "Loading data\n",
      "Done loading data\n",
      "Loading state data\n",
      "Done loading state data\n",
      "Loading state data\n",
      "Done loading state data\n"
     ]
    },
    {
     "name": "stderr",
     "output_type": "stream",
     "text": [
      "0it [00:00, ?it/s]/home/misha/downloads/vqvae/vqvae/planner/graph.py:126: UserWarning: To copy construct from a tensor, it is recommended to use sourceTensor.clone().detach() or sourceTensor.clone().detach().requires_grad_(True), rather than torch.tensor(sourceTensor).\n",
      "  x = torch.tensor(x).float().to(self.device)\n",
      "2it [00:00, 19.86it/s]"
     ]
    },
    {
     "name": "stdout",
     "output_type": "stream",
     "text": [
      "encoding data into latent representations\n"
     ]
    },
    {
     "name": "stderr",
     "output_type": "stream",
     "text": [
      "704it [00:34, 21.41it/s]\n",
      "6it [00:00, 53.44it/s]"
     ]
    },
    {
     "name": "stdout",
     "output_type": "stream",
     "text": [
      "building representation transition graph\n"
     ]
    },
    {
     "name": "stderr",
     "output_type": "stream",
     "text": [
      "1800it [00:30, 58.25it/s]\n"
     ]
    }
   ],
   "source": [
    "from vqvae.planner import RepresentationGraph\n",
    "\n",
    "model_dir = '/home/misha/downloads/vqvae/results/'\n",
    "model_filename = 'vqvae_data_point_mass_v2ne16nd16.pth'\n",
    "    \n",
    "rep_graph = RepresentationGraph(model_filename=model_filename,\n",
    "                                             model_dir=model_dir,\n",
    "                                             min_rep_count=100)\n"
   ]
  },
  {
   "cell_type": "code",
   "execution_count": 9,
   "metadata": {},
   "outputs": [],
   "source": [
    "g = rep_graph.graph\n",
    "r = rep_graph.rep_dict\n",
    "rep_to_state = rep_graph.rep_to_state\n",
    "rep_to_state = {k:v.cpu().detach().numpy() for k,v in rep_to_state.items()}\n",
    "d = {'graph':g,'rep_dict':r,'rep_to_state':rep_to_state}\n"
   ]
  },
  {
   "cell_type": "code",
   "execution_count": 10,
   "metadata": {},
   "outputs": [
    {
     "data": {
      "text/plain": [
       "240"
      ]
     },
     "execution_count": 10,
     "metadata": {},
     "output_type": "execute_result"
    }
   ],
   "source": [
    "from sys import getsizeof\n",
    "getsizeof(d)"
   ]
  },
  {
   "cell_type": "code",
   "execution_count": 27,
   "metadata": {},
   "outputs": [],
   "source": [
    "file_path = '/home/misha/downloads/vqvae/data/point_mass_length100_paths_2000.npy'\n",
    "data = np.load(file_path, allow_pickle=True)\n",
    "data = np.array(data.item().get('achieved_goal'))"
   ]
  },
  {
   "cell_type": "code",
   "execution_count": 28,
   "metadata": {},
   "outputs": [
    {
     "data": {
      "text/plain": [
       "array([[-0.13975682,  0.28939041,  0.01      ],\n",
       "       [-0.13975682,  0.28939041,  0.01      ],\n",
       "       [-0.13975682,  0.28939041,  0.01      ],\n",
       "       [-0.13975682,  0.28939041,  0.01      ],\n",
       "       [-0.13975682,  0.28939041,  0.01      ],\n",
       "       [-0.13975682,  0.28939041,  0.01      ],\n",
       "       [-0.13975682,  0.28939041,  0.01      ],\n",
       "       [-0.13975682,  0.28939041,  0.01      ],\n",
       "       [-0.13975682,  0.28939041,  0.01      ],\n",
       "       [-0.13975682,  0.28939041,  0.01      ]])"
      ]
     },
     "execution_count": 28,
     "metadata": {},
     "output_type": "execute_result"
    }
   ],
   "source": [
    "data[:10]"
   ]
  },
  {
   "cell_type": "code",
   "execution_count": 45,
   "metadata": {},
   "outputs": [],
   "source": [
    "np.save('vqvae_graph_point_mass_v2ne16nd16',d)"
   ]
  },
  {
   "cell_type": "code",
   "execution_count": 13,
   "metadata": {},
   "outputs": [
    {
     "name": "stdout",
     "output_type": "stream",
     "text": [
      "Loading state data\n",
      "Done loading state data\n",
      "Loading state data\n",
      "Done loading state data\n"
     ]
    }
   ],
   "source": [
    "from vqvae import utils\n",
    "\n",
    "train, val = utils.load_point_mass(state_version=True)\n",
    "state_train_loader, state_val_loader = utils.data_loaders(train, val, 256, shuffle=False)"
   ]
  },
  {
   "cell_type": "code",
   "execution_count": 23,
   "metadata": {},
   "outputs": [
    {
     "data": {
      "text/plain": [
       "array([[-0.13975682,  0.28939041,  0.01      ],\n",
       "       [-0.13975682,  0.28939041,  0.01      ],\n",
       "       [-0.13975682,  0.28939041,  0.01      ],\n",
       "       [-0.13975682,  0.28939041,  0.01      ],\n",
       "       [-0.13975682,  0.28939041,  0.01      ],\n",
       "       [-0.13975682,  0.28939041,  0.01      ],\n",
       "       [-0.13975682,  0.28939041,  0.01      ],\n",
       "       [-0.13975682,  0.28939041,  0.01      ],\n",
       "       [-0.13975682,  0.28939041,  0.01      ],\n",
       "       [-0.13975682,  0.28939041,  0.01      ]])"
      ]
     },
     "execution_count": 23,
     "metadata": {},
     "output_type": "execute_result"
    }
   ],
   "source": [
    "train[-10:][0]"
   ]
  },
  {
   "cell_type": "code",
   "execution_count": 25,
   "metadata": {},
   "outputs": [
    {
     "ename": "NameError",
     "evalue": "name 'train_loader' is not defined",
     "output_type": "error",
     "traceback": [
      "\u001b[0;31m---------------------------------------------------------------------------\u001b[0m",
      "\u001b[0;31mNameError\u001b[0m                                 Traceback (most recent call last)",
      "\u001b[0;32m<ipython-input-25-0713b06d0d53>\u001b[0m in \u001b[0;36m<module>\u001b[0;34m\u001b[0m\n\u001b[1;32m      1\u001b[0m \u001b[0mi\u001b[0m \u001b[0;34m=\u001b[0m \u001b[0;36m0\u001b[0m\u001b[0;34m\u001b[0m\u001b[0;34m\u001b[0m\u001b[0m\n\u001b[0;32m----> 2\u001b[0;31m \u001b[0;32mfor\u001b[0m \u001b[0mi\u001b[0m\u001b[0;34m,\u001b[0m\u001b[0mdata\u001b[0m \u001b[0;32min\u001b[0m \u001b[0menumerate\u001b[0m\u001b[0;34m(\u001b[0m\u001b[0mtrain_loader\u001b[0m\u001b[0;34m)\u001b[0m\u001b[0;34m:\u001b[0m\u001b[0;34m\u001b[0m\u001b[0;34m\u001b[0m\u001b[0m\n\u001b[0m\u001b[1;32m      3\u001b[0m     \u001b[0mprint\u001b[0m\u001b[0;34m(\u001b[0m\u001b[0mdata\u001b[0m\u001b[0;34m[\u001b[0m\u001b[0;36m0\u001b[0m\u001b[0;34m]\u001b[0m\u001b[0;34m[\u001b[0m\u001b[0mi\u001b[0m\u001b[0;34m]\u001b[0m\u001b[0;34m)\u001b[0m\u001b[0;34m\u001b[0m\u001b[0;34m\u001b[0m\u001b[0m\n\u001b[1;32m      4\u001b[0m     \u001b[0mi\u001b[0m\u001b[0;34m+=\u001b[0m\u001b[0;36m1\u001b[0m\u001b[0;34m\u001b[0m\u001b[0;34m\u001b[0m\u001b[0m\n\u001b[1;32m      5\u001b[0m     \u001b[0;32mif\u001b[0m \u001b[0mi\u001b[0m\u001b[0;34m==\u001b[0m\u001b[0;36m10\u001b[0m\u001b[0;34m:\u001b[0m\u001b[0;34m\u001b[0m\u001b[0;34m\u001b[0m\u001b[0m\n",
      "\u001b[0;31mNameError\u001b[0m: name 'train_loader' is not defined"
     ]
    }
   ],
   "source": [
    "i = 0\n",
    "for i,data in enumerate(train_loader):\n",
    "    print(data[0][i])\n",
    "    i+=1\n",
    "    if i==10:\n",
    "        assert False"
   ]
  },
  {
   "cell_type": "markdown",
   "metadata": {},
   "source": [
    "# Color coding"
   ]
  },
  {
   "cell_type": "code",
   "execution_count": 10,
   "metadata": {},
   "outputs": [
    {
     "data": {
      "text/plain": [
       "'\\n1. load all data\\n2. compute COM for all data\\n3. get representation indices for all data and hash them\\n4. organize all data by index for steps 1-3\\n5. build unique color scheme for all used representations\\n6. iterate through hash values and color the COM pixel with hash values\\n\\ndisplay resulting image\\n\\n'"
      ]
     },
     "execution_count": 10,
     "metadata": {},
     "output_type": "execute_result"
    }
   ],
   "source": [
    "\"\"\"\n",
    "1. load all data\n",
    "2. compute COM for all data\n",
    "3. get representation indices for all data and hash them\n",
    "4. organize all data by index for steps 1-3\n",
    "5. build unique color scheme for all used representations\n",
    "6. iterate through hash values and color the COM pixel with hash values\n",
    "\n",
    "display resulting image\n",
    "\n",
    "\"\"\""
   ]
  },
  {
   "cell_type": "code",
   "execution_count": 11,
   "metadata": {},
   "outputs": [],
   "source": [
    "import random\n",
    "import seaborn as sns\n",
    "\n",
    "def encode_data(data,model):\n",
    "    x = data.data # assumes youre using Pytorch formatted dataset\n",
    "    x = torch.tensor(x).float().to(device)\n",
    "    x = x.permute(0,3,1,2).contiguous()\n",
    "    x = x.to(device)\n",
    "    vq_encoder_output = model.pre_quantization_conv(model.encoder(x))\n",
    "    _, z_q, _, _,e_indices = model.vector_quantization(vq_encoder_output)\n",
    "    \n",
    "    x_recon = model.decoder(z_q)\n",
    "    return x,x_recon, z_q,e_indices\n",
    "\n",
    "def count_and_hash_representations(e_indices,prune=2):\n",
    "    x_hashes = []\n",
    "    d = {}\n",
    "    n = int(len(e_indices)/64)\n",
    "    for i in range(n):\n",
    "        k = e_indices[64*i:64*i+64].squeeze().cpu().detach().numpy()\n",
    "        hash_ = hash(tuple(k))\n",
    "\n",
    "        if hash_ not in d:\n",
    "            d[hash_] = 1\n",
    "        else:\n",
    "            d[hash_]+=1\n",
    "            \n",
    "        x_hashes.append(hash_)\n",
    "            \n",
    "    # prune hash table\n",
    "    d = dict((k, v) for k, v in d.items() if v >= prune)\n",
    "    \n",
    "    return d,x_hashes\n",
    "\n",
    "\n",
    "def create_color_template(n):\n",
    "    num_shades = n\n",
    "    if n < 1000:\n",
    "        sns.palplot(sns.husl_palette(num_shades))\n",
    "        color_list = sns.husl_palette(num_shades)\n",
    "    else:\n",
    "        sns.palplot(sns.cubehelix_palette(num_shades))\n",
    "        color_list = sns.cubehelix_palette(num_shades)\n",
    "        \n",
    "\n",
    "    rgb_list = []\n",
    "    for color in color_list:\n",
    "        rgb = []\n",
    "        for value in color:\n",
    "            value *= 255\n",
    "            rgb.append(int(value))\n",
    "        rgb_list.append(np.array(rgb).astype(int))\n",
    "\n",
    "    return rgb_list \n"
   ]
  },
  {
   "cell_type": "code",
   "execution_count": 12,
   "metadata": {},
   "outputs": [
    {
     "ename": "RuntimeError",
     "evalue": "cuDNN error: CUDNN_STATUS_NOT_SUPPORTED. This error may appear if you passed in a non-contiguous input.",
     "output_type": "error",
     "traceback": [
      "\u001b[0;31m---------------------------------------------------------------------------\u001b[0m",
      "\u001b[0;31mRuntimeError\u001b[0m                              Traceback (most recent call last)",
      "\u001b[0;32m<ipython-input-12-bd2bfd968163>\u001b[0m in \u001b[0;36m<module>\u001b[0;34m\u001b[0m\n\u001b[1;32m      5\u001b[0m \u001b[0;34m\u001b[0m\u001b[0m\n\u001b[1;32m      6\u001b[0m \u001b[0;31m# get data and discrete indices\u001b[0m\u001b[0;34m\u001b[0m\u001b[0;34m\u001b[0m\u001b[0;34m\u001b[0m\u001b[0m\n\u001b[0;32m----> 7\u001b[0;31m \u001b[0mdata\u001b[0m\u001b[0;34m,\u001b[0m\u001b[0m_\u001b[0m\u001b[0;34m,\u001b[0m\u001b[0m_\u001b[0m\u001b[0;34m,\u001b[0m\u001b[0me_indices\u001b[0m \u001b[0;34m=\u001b[0m \u001b[0mencode_data\u001b[0m\u001b[0;34m(\u001b[0m\u001b[0mtraining_data\u001b[0m\u001b[0;34m,\u001b[0m\u001b[0mmodel\u001b[0m\u001b[0;34m)\u001b[0m\u001b[0;34m\u001b[0m\u001b[0;34m\u001b[0m\u001b[0m\n\u001b[0m\u001b[1;32m      8\u001b[0m \u001b[0;34m\u001b[0m\u001b[0m\n\u001b[1;32m      9\u001b[0m \u001b[0;31m# create a hash table with most common representations\u001b[0m\u001b[0;34m\u001b[0m\u001b[0;34m\u001b[0m\u001b[0;34m\u001b[0m\u001b[0m\n",
      "\u001b[0;32m<ipython-input-11-f236ccf4030c>\u001b[0m in \u001b[0;36mencode_data\u001b[0;34m(data, model)\u001b[0m\n\u001b[1;32m      7\u001b[0m     \u001b[0mx\u001b[0m \u001b[0;34m=\u001b[0m \u001b[0mx\u001b[0m\u001b[0;34m.\u001b[0m\u001b[0mpermute\u001b[0m\u001b[0;34m(\u001b[0m\u001b[0;36m0\u001b[0m\u001b[0;34m,\u001b[0m\u001b[0;36m3\u001b[0m\u001b[0;34m,\u001b[0m\u001b[0;36m1\u001b[0m\u001b[0;34m,\u001b[0m\u001b[0;36m2\u001b[0m\u001b[0;34m)\u001b[0m\u001b[0;34m.\u001b[0m\u001b[0mcontiguous\u001b[0m\u001b[0;34m(\u001b[0m\u001b[0;34m)\u001b[0m\u001b[0;34m\u001b[0m\u001b[0;34m\u001b[0m\u001b[0m\n\u001b[1;32m      8\u001b[0m     \u001b[0mx\u001b[0m \u001b[0;34m=\u001b[0m \u001b[0mx\u001b[0m\u001b[0;34m.\u001b[0m\u001b[0mto\u001b[0m\u001b[0;34m(\u001b[0m\u001b[0mdevice\u001b[0m\u001b[0;34m)\u001b[0m\u001b[0;34m\u001b[0m\u001b[0;34m\u001b[0m\u001b[0m\n\u001b[0;32m----> 9\u001b[0;31m     \u001b[0mvq_encoder_output\u001b[0m \u001b[0;34m=\u001b[0m \u001b[0mmodel\u001b[0m\u001b[0;34m.\u001b[0m\u001b[0mpre_quantization_conv\u001b[0m\u001b[0;34m(\u001b[0m\u001b[0mmodel\u001b[0m\u001b[0;34m.\u001b[0m\u001b[0mencoder\u001b[0m\u001b[0;34m(\u001b[0m\u001b[0mx\u001b[0m\u001b[0;34m)\u001b[0m\u001b[0;34m)\u001b[0m\u001b[0;34m\u001b[0m\u001b[0;34m\u001b[0m\u001b[0m\n\u001b[0m\u001b[1;32m     10\u001b[0m     \u001b[0m_\u001b[0m\u001b[0;34m,\u001b[0m \u001b[0mz_q\u001b[0m\u001b[0;34m,\u001b[0m \u001b[0m_\u001b[0m\u001b[0;34m,\u001b[0m \u001b[0m_\u001b[0m\u001b[0;34m,\u001b[0m\u001b[0me_indices\u001b[0m \u001b[0;34m=\u001b[0m \u001b[0mmodel\u001b[0m\u001b[0;34m.\u001b[0m\u001b[0mvector_quantization\u001b[0m\u001b[0;34m(\u001b[0m\u001b[0mvq_encoder_output\u001b[0m\u001b[0;34m)\u001b[0m\u001b[0;34m\u001b[0m\u001b[0;34m\u001b[0m\u001b[0m\n\u001b[1;32m     11\u001b[0m \u001b[0;34m\u001b[0m\u001b[0m\n",
      "\u001b[0;32m/opt/anaconda3/envs/research/lib/python3.7/site-packages/torch/nn/modules/module.py\u001b[0m in \u001b[0;36m__call__\u001b[0;34m(self, *input, **kwargs)\u001b[0m\n\u001b[1;32m    491\u001b[0m             \u001b[0mresult\u001b[0m \u001b[0;34m=\u001b[0m \u001b[0mself\u001b[0m\u001b[0;34m.\u001b[0m\u001b[0m_slow_forward\u001b[0m\u001b[0;34m(\u001b[0m\u001b[0;34m*\u001b[0m\u001b[0minput\u001b[0m\u001b[0;34m,\u001b[0m \u001b[0;34m**\u001b[0m\u001b[0mkwargs\u001b[0m\u001b[0;34m)\u001b[0m\u001b[0;34m\u001b[0m\u001b[0;34m\u001b[0m\u001b[0m\n\u001b[1;32m    492\u001b[0m         \u001b[0;32melse\u001b[0m\u001b[0;34m:\u001b[0m\u001b[0;34m\u001b[0m\u001b[0;34m\u001b[0m\u001b[0m\n\u001b[0;32m--> 493\u001b[0;31m             \u001b[0mresult\u001b[0m \u001b[0;34m=\u001b[0m \u001b[0mself\u001b[0m\u001b[0;34m.\u001b[0m\u001b[0mforward\u001b[0m\u001b[0;34m(\u001b[0m\u001b[0;34m*\u001b[0m\u001b[0minput\u001b[0m\u001b[0;34m,\u001b[0m \u001b[0;34m**\u001b[0m\u001b[0mkwargs\u001b[0m\u001b[0;34m)\u001b[0m\u001b[0;34m\u001b[0m\u001b[0;34m\u001b[0m\u001b[0m\n\u001b[0m\u001b[1;32m    494\u001b[0m         \u001b[0;32mfor\u001b[0m \u001b[0mhook\u001b[0m \u001b[0;32min\u001b[0m \u001b[0mself\u001b[0m\u001b[0;34m.\u001b[0m\u001b[0m_forward_hooks\u001b[0m\u001b[0;34m.\u001b[0m\u001b[0mvalues\u001b[0m\u001b[0;34m(\u001b[0m\u001b[0;34m)\u001b[0m\u001b[0;34m:\u001b[0m\u001b[0;34m\u001b[0m\u001b[0;34m\u001b[0m\u001b[0m\n\u001b[1;32m    495\u001b[0m             \u001b[0mhook_result\u001b[0m \u001b[0;34m=\u001b[0m \u001b[0mhook\u001b[0m\u001b[0;34m(\u001b[0m\u001b[0mself\u001b[0m\u001b[0;34m,\u001b[0m \u001b[0minput\u001b[0m\u001b[0;34m,\u001b[0m \u001b[0mresult\u001b[0m\u001b[0;34m)\u001b[0m\u001b[0;34m\u001b[0m\u001b[0;34m\u001b[0m\u001b[0m\n",
      "\u001b[0;32m~/downloads/vq-vae/models/encoder.py\u001b[0m in \u001b[0;36mforward\u001b[0;34m(self, x)\u001b[0m\n\u001b[1;32m     41\u001b[0m \u001b[0;34m\u001b[0m\u001b[0m\n\u001b[1;32m     42\u001b[0m     \u001b[0;32mdef\u001b[0m \u001b[0mforward\u001b[0m\u001b[0;34m(\u001b[0m\u001b[0mself\u001b[0m\u001b[0;34m,\u001b[0m \u001b[0mx\u001b[0m\u001b[0;34m)\u001b[0m\u001b[0;34m:\u001b[0m\u001b[0;34m\u001b[0m\u001b[0;34m\u001b[0m\u001b[0m\n\u001b[0;32m---> 43\u001b[0;31m         \u001b[0;32mreturn\u001b[0m \u001b[0mself\u001b[0m\u001b[0;34m.\u001b[0m\u001b[0mconv_stack\u001b[0m\u001b[0;34m(\u001b[0m\u001b[0mx\u001b[0m\u001b[0;34m)\u001b[0m\u001b[0;34m\u001b[0m\u001b[0;34m\u001b[0m\u001b[0m\n\u001b[0m\u001b[1;32m     44\u001b[0m \u001b[0;34m\u001b[0m\u001b[0m\n\u001b[1;32m     45\u001b[0m \u001b[0;34m\u001b[0m\u001b[0m\n",
      "\u001b[0;32m/opt/anaconda3/envs/research/lib/python3.7/site-packages/torch/nn/modules/module.py\u001b[0m in \u001b[0;36m__call__\u001b[0;34m(self, *input, **kwargs)\u001b[0m\n\u001b[1;32m    491\u001b[0m             \u001b[0mresult\u001b[0m \u001b[0;34m=\u001b[0m \u001b[0mself\u001b[0m\u001b[0;34m.\u001b[0m\u001b[0m_slow_forward\u001b[0m\u001b[0;34m(\u001b[0m\u001b[0;34m*\u001b[0m\u001b[0minput\u001b[0m\u001b[0;34m,\u001b[0m \u001b[0;34m**\u001b[0m\u001b[0mkwargs\u001b[0m\u001b[0;34m)\u001b[0m\u001b[0;34m\u001b[0m\u001b[0;34m\u001b[0m\u001b[0m\n\u001b[1;32m    492\u001b[0m         \u001b[0;32melse\u001b[0m\u001b[0;34m:\u001b[0m\u001b[0;34m\u001b[0m\u001b[0;34m\u001b[0m\u001b[0m\n\u001b[0;32m--> 493\u001b[0;31m             \u001b[0mresult\u001b[0m \u001b[0;34m=\u001b[0m \u001b[0mself\u001b[0m\u001b[0;34m.\u001b[0m\u001b[0mforward\u001b[0m\u001b[0;34m(\u001b[0m\u001b[0;34m*\u001b[0m\u001b[0minput\u001b[0m\u001b[0;34m,\u001b[0m \u001b[0;34m**\u001b[0m\u001b[0mkwargs\u001b[0m\u001b[0;34m)\u001b[0m\u001b[0;34m\u001b[0m\u001b[0;34m\u001b[0m\u001b[0m\n\u001b[0m\u001b[1;32m    494\u001b[0m         \u001b[0;32mfor\u001b[0m \u001b[0mhook\u001b[0m \u001b[0;32min\u001b[0m \u001b[0mself\u001b[0m\u001b[0;34m.\u001b[0m\u001b[0m_forward_hooks\u001b[0m\u001b[0;34m.\u001b[0m\u001b[0mvalues\u001b[0m\u001b[0;34m(\u001b[0m\u001b[0;34m)\u001b[0m\u001b[0;34m:\u001b[0m\u001b[0;34m\u001b[0m\u001b[0;34m\u001b[0m\u001b[0m\n\u001b[1;32m    495\u001b[0m             \u001b[0mhook_result\u001b[0m \u001b[0;34m=\u001b[0m \u001b[0mhook\u001b[0m\u001b[0;34m(\u001b[0m\u001b[0mself\u001b[0m\u001b[0;34m,\u001b[0m \u001b[0minput\u001b[0m\u001b[0;34m,\u001b[0m \u001b[0mresult\u001b[0m\u001b[0;34m)\u001b[0m\u001b[0;34m\u001b[0m\u001b[0;34m\u001b[0m\u001b[0m\n",
      "\u001b[0;32m/opt/anaconda3/envs/research/lib/python3.7/site-packages/torch/nn/modules/container.py\u001b[0m in \u001b[0;36mforward\u001b[0;34m(self, input)\u001b[0m\n\u001b[1;32m     90\u001b[0m     \u001b[0;32mdef\u001b[0m \u001b[0mforward\u001b[0m\u001b[0;34m(\u001b[0m\u001b[0mself\u001b[0m\u001b[0;34m,\u001b[0m \u001b[0minput\u001b[0m\u001b[0;34m)\u001b[0m\u001b[0;34m:\u001b[0m\u001b[0;34m\u001b[0m\u001b[0;34m\u001b[0m\u001b[0m\n\u001b[1;32m     91\u001b[0m         \u001b[0;32mfor\u001b[0m \u001b[0mmodule\u001b[0m \u001b[0;32min\u001b[0m \u001b[0mself\u001b[0m\u001b[0;34m.\u001b[0m\u001b[0m_modules\u001b[0m\u001b[0;34m.\u001b[0m\u001b[0mvalues\u001b[0m\u001b[0;34m(\u001b[0m\u001b[0;34m)\u001b[0m\u001b[0;34m:\u001b[0m\u001b[0;34m\u001b[0m\u001b[0;34m\u001b[0m\u001b[0m\n\u001b[0;32m---> 92\u001b[0;31m             \u001b[0minput\u001b[0m \u001b[0;34m=\u001b[0m \u001b[0mmodule\u001b[0m\u001b[0;34m(\u001b[0m\u001b[0minput\u001b[0m\u001b[0;34m)\u001b[0m\u001b[0;34m\u001b[0m\u001b[0;34m\u001b[0m\u001b[0m\n\u001b[0m\u001b[1;32m     93\u001b[0m         \u001b[0;32mreturn\u001b[0m \u001b[0minput\u001b[0m\u001b[0;34m\u001b[0m\u001b[0;34m\u001b[0m\u001b[0m\n\u001b[1;32m     94\u001b[0m \u001b[0;34m\u001b[0m\u001b[0m\n",
      "\u001b[0;32m/opt/anaconda3/envs/research/lib/python3.7/site-packages/torch/nn/modules/module.py\u001b[0m in \u001b[0;36m__call__\u001b[0;34m(self, *input, **kwargs)\u001b[0m\n\u001b[1;32m    491\u001b[0m             \u001b[0mresult\u001b[0m \u001b[0;34m=\u001b[0m \u001b[0mself\u001b[0m\u001b[0;34m.\u001b[0m\u001b[0m_slow_forward\u001b[0m\u001b[0;34m(\u001b[0m\u001b[0;34m*\u001b[0m\u001b[0minput\u001b[0m\u001b[0;34m,\u001b[0m \u001b[0;34m**\u001b[0m\u001b[0mkwargs\u001b[0m\u001b[0;34m)\u001b[0m\u001b[0;34m\u001b[0m\u001b[0;34m\u001b[0m\u001b[0m\n\u001b[1;32m    492\u001b[0m         \u001b[0;32melse\u001b[0m\u001b[0;34m:\u001b[0m\u001b[0;34m\u001b[0m\u001b[0;34m\u001b[0m\u001b[0m\n\u001b[0;32m--> 493\u001b[0;31m             \u001b[0mresult\u001b[0m \u001b[0;34m=\u001b[0m \u001b[0mself\u001b[0m\u001b[0;34m.\u001b[0m\u001b[0mforward\u001b[0m\u001b[0;34m(\u001b[0m\u001b[0;34m*\u001b[0m\u001b[0minput\u001b[0m\u001b[0;34m,\u001b[0m \u001b[0;34m**\u001b[0m\u001b[0mkwargs\u001b[0m\u001b[0;34m)\u001b[0m\u001b[0;34m\u001b[0m\u001b[0;34m\u001b[0m\u001b[0m\n\u001b[0m\u001b[1;32m    494\u001b[0m         \u001b[0;32mfor\u001b[0m \u001b[0mhook\u001b[0m \u001b[0;32min\u001b[0m \u001b[0mself\u001b[0m\u001b[0;34m.\u001b[0m\u001b[0m_forward_hooks\u001b[0m\u001b[0;34m.\u001b[0m\u001b[0mvalues\u001b[0m\u001b[0;34m(\u001b[0m\u001b[0;34m)\u001b[0m\u001b[0;34m:\u001b[0m\u001b[0;34m\u001b[0m\u001b[0;34m\u001b[0m\u001b[0m\n\u001b[1;32m    495\u001b[0m             \u001b[0mhook_result\u001b[0m \u001b[0;34m=\u001b[0m \u001b[0mhook\u001b[0m\u001b[0;34m(\u001b[0m\u001b[0mself\u001b[0m\u001b[0;34m,\u001b[0m \u001b[0minput\u001b[0m\u001b[0;34m,\u001b[0m \u001b[0mresult\u001b[0m\u001b[0;34m)\u001b[0m\u001b[0;34m\u001b[0m\u001b[0;34m\u001b[0m\u001b[0m\n",
      "\u001b[0;32m/opt/anaconda3/envs/research/lib/python3.7/site-packages/torch/nn/modules/conv.py\u001b[0m in \u001b[0;36mforward\u001b[0;34m(self, input)\u001b[0m\n\u001b[1;32m    336\u001b[0m                             _pair(0), self.dilation, self.groups)\n\u001b[1;32m    337\u001b[0m         return F.conv2d(input, self.weight, self.bias, self.stride,\n\u001b[0;32m--> 338\u001b[0;31m                         self.padding, self.dilation, self.groups)\n\u001b[0m\u001b[1;32m    339\u001b[0m \u001b[0;34m\u001b[0m\u001b[0m\n\u001b[1;32m    340\u001b[0m \u001b[0;34m\u001b[0m\u001b[0m\n",
      "\u001b[0;31mRuntimeError\u001b[0m: cuDNN error: CUDNN_STATUS_NOT_SUPPORTED. This error may appear if you passed in a non-contiguous input."
     ]
    }
   ],
   "source": [
    "from collections import Counter\n",
    "\n",
    "PRUNE = 0\n",
    "N_TOP_REPS = 500\n",
    "\n",
    "# get data and discrete indices\n",
    "data,_,_,e_indices = encode_data(training_data,model)\n",
    "\n",
    "# create a hash table with most common representations\n",
    "d, data_hashes = count_and_hash_representations(e_indices,PRUNE)\n",
    "\n",
    "#d = dict(Counter(d).most_common(N_TOP_REPS))\n",
    "\n",
    "# count num of reps\n",
    "n = len(d.keys())\n",
    "print(n)\n",
    "colors = create_color_template(n)\n",
    "color_hash_table = {k:v for k,v in zip(d.keys(),colors)}\n",
    "\n",
    "data = data.cpu().detach().numpy()\n",
    "\n",
    "\n",
    "color_img = np.zeros((32,32,3))\n",
    "\n",
    "colored_data = data.copy()\n",
    "\n",
    "colored_idxs = []\n",
    "\n",
    "colored_img_dict = {}\n",
    "\n",
    "for k,(x,rep) in enumerate(zip(data,data_hashes)):\n",
    "    x = np.transpose(x,(1,2,0))\n",
    "    \n",
    "    block_ij = np.argwhere(x[:,:,1]>100)\n",
    "    \n",
    "    x_min = np.min(block_ij,0)\n",
    "    x_max = np.max(block_ij,0)\n",
    "    \n",
    "    i,j = (x_min + x_max)//2\n",
    "    \n",
    "    if rep not in color_hash_table:\n",
    "        color = np.array([255,255,255])\n",
    "        for idx in block_ij:\n",
    "            row,col = idx\n",
    "            colored_data[k,0,row,col] = color[0]\n",
    "            colored_data[k,1,row,col] = color[1]\n",
    "            colored_data[k,2,row,col] = color[2]\n",
    "    else:\n",
    "        colored_idxs.append(k)\n",
    "        \n",
    "            \n",
    "        color = np.array(color_hash_table[rep])\n",
    "        color_img[i,j] = color\n",
    "        for idx in block_ij:\n",
    "            row,col = idx\n",
    "            colored_data[k,0,row,col] = color[0]\n",
    "            colored_data[k,1,row,col] = color[1]\n",
    "            colored_data[k,2,row,col] = color[2]\n",
    "            color_img[row,col]=color\n",
    "            \n",
    "        if rep not in colored_img_dict:\n",
    "            colored_img_dict[rep] = [colored_data[k,:,:,:]]\n",
    "        else:\n",
    "            colored_img_dict[rep].append(colored_data[k,:,:,:])\n",
    "            \n",
    "        \n",
    "    "
   ]
  },
  {
   "cell_type": "code",
   "execution_count": 41,
   "metadata": {},
   "outputs": [
    {
     "data": {
      "text/plain": [
       "(9000, 3, 32, 32)"
      ]
     },
     "execution_count": 41,
     "metadata": {},
     "output_type": "execute_result"
    }
   ],
   "source": [
    "data.shape"
   ]
  },
  {
   "cell_type": "code",
   "execution_count": 38,
   "metadata": {},
   "outputs": [
    {
     "data": {
      "image/png": "[encoded data removed]",
      "text/plain": [
       "<Figure size 432x288 with 1 Axes>"
      ]
     },
     "metadata": {
      "needs_background": "light"
     },
     "output_type": "display_data"
    }
   ],
   "source": [
    "import matplotlib.pyplot as plt\n",
    "import matplotlib.image as mpimg\n",
    "%matplotlib inline\n",
    "\n",
    "x = np.transpose(data[8],(1,2,0))\n",
    "x.shape\n",
    "\n",
    "imgplot = plt.imshow(color_img.astype(int))\n",
    "#imgplot.axes.get_xaxis().set_visible(False)\n",
    "#imgplot.axes.get_yaxis().set_visible(False)"
   ]
  },
  {
   "cell_type": "code",
   "execution_count": 39,
   "metadata": {},
   "outputs": [
    {
     "data": {
      "image/png": "[encoded data removed]",
      "text/plain": [
       "<Figure size 432x288 with 1 Axes>"
      ]
     },
     "metadata": {
      "needs_background": "light"
     },
     "output_type": "display_data"
    }
   ],
   "source": [
    "\n",
    "image_list = []\n",
    "\n",
    "for rep_imgs in list(colored_img_dict.values()):\n",
    "    image_list.append(torch.tensor(np.array(rep_imgs)[:4]).int())\n",
    "\n",
    "x = torch.cat(image_list[:10])\n",
    "for _ in range(2):\n",
    "    display_image_grid(x)\n"
   ]
  },
  {
   "cell_type": "code",
   "execution_count": 264,
   "metadata": {},
   "outputs": [
    {
     "data": {
      "text/plain": [
       "'\\nHow can we build a graph from a color image?\\n\\nStep 1: set up\\n\\n- Create an index to representation map (e.g. an array of all the representations) of length N\\n- Create a color to index hash table\\n- Create new image representation that takes color image and replaces all RGB colors with indices\\n- Create a N X N matrix of zeros\\n\\nStep 2: graph construction\\n\\nScan the color image twice - horizontally and vertically\\n\\n1. start at origin pixel (0,0), mark its color\\nWhile pixels not exhausted\\n2. move one step\\n3. check if color at this step is the same as previous color\\n4. if color is same, skip step 5\\n5. if color is different, add 1 to matrix[i][j] and matrix[j][i] where i is previous color and j is current color\\n6. mark current pixel color and move on to next pixel\\n\\ndo this twice for vertical and horizontal pixels\\n'"
      ]
     },
     "execution_count": 264,
     "metadata": {},
     "output_type": "execute_result"
    }
   ],
   "source": [
    "\"\"\"\n",
    "How can we build a graph from a color image?\n",
    "\n",
    "Step 1: set up\n",
    "\n",
    "- Create an index to representation map (e.g. an array of all the representations) of length N\n",
    "- Create a color to index hash table\n",
    "- Create new image representation that takes color image and replaces all RGB colors with indices\n",
    "- Create a N X N matrix of zeros\n",
    "\n",
    "Step 2: graph construction\n",
    "\n",
    "Scan the color image twice - horizontally and vertically\n",
    "\n",
    "1. start at origin pixel (0,0), mark its color\n",
    "While pixels not exhausted\n",
    "2. move one step\n",
    "3. check if color at this step is the same as previous color\n",
    "4. if color is same, skip step 5\n",
    "5. if color is different, add 1 to matrix[i][j] and matrix[j][i] where i is previous color and j is current color\n",
    "6. mark current pixel color and move on to next pixel\n",
    "\n",
    "do this twice for vertical and horizontal pixels\n",
    "\"\"\""
   ]
  },
  {
   "cell_type": "code",
   "execution_count": 265,
   "metadata": {},
   "outputs": [],
   "source": [
    "# Step 1\n",
    "# Create an index to representation map\n",
    "# add black (None representation)\n",
    "index_rep_map = [np.array([0,0,0])]\n",
    "# add representations\n",
    "index_rep_map+=list(color_hash_table.values())\n",
    "index_rep_map = np.array(index_rep_map)\n",
    "\n",
    "# Create a color to index hash table\n",
    "color_index_hash_table = {str(v):i for i,v in enumerate(index_rep_map)}\n",
    "# Create new image representation that takes color image and replaces all RGB colors with indices\n",
    "count = 0\n",
    "# iterate over colors\n",
    "index_img = np.zeros((32,32))\n",
    "\n",
    "color_img_int = color_img.astype(int)\n",
    "for i in range(color_img_int.shape[0]):\n",
    "    for j in range(color_img_int.shape[1]):\n",
    "        color_string = str(color_img_int[i,j,:])\n",
    "        index_img[i,j] = color_index_hash_table[color_string]\n",
    "index_img = index_img.astype(int)\n",
    "\n"
   ]
  },
  {
   "cell_type": "code",
   "execution_count": 266,
   "metadata": {},
   "outputs": [],
   "source": [
    "# Step 1 graph init\n",
    "\n",
    "# Create a N X N matrix of zeros\n",
    "n = len(index_rep_map)\n",
    "graph = np.zeros((n,n)).astype(int)\n",
    "\n",
    "# Step 2\n",
    "\n",
    "# horizontal and vertical scans\n",
    "m = index_img.shape[0]\n",
    "horizontal_mark = None\n",
    "\n",
    "for i in range(m):\n",
    "    for j in range(m):\n",
    "        # horizontal scan\n",
    "        # make sure j-1 > -1\n",
    "        if j>0:\n",
    "            current_color = index_img[i][j]\n",
    "            previous_color = index_img[i][j-1]\n",
    "            if current_color != previous_color:\n",
    "                graph[current_color][previous_color]+=1\n",
    "                graph[previous_color][current_color]+=1\n",
    "        # vertical scan\n",
    "        # make sure i-1<-1\n",
    "        if i>0:\n",
    "            current_color = index_img[i][j]\n",
    "            previous_color = index_img[i-1][j]\n",
    "            if current_color != previous_color:\n",
    "                graph[current_color][previous_color]+=1\n",
    "                graph[previous_color][current_color]+=1\n",
    "            \n",
    "        \n"
   ]
  },
  {
   "cell_type": "code",
   "execution_count": 267,
   "metadata": {},
   "outputs": [
    {
     "data": {
      "text/plain": [
       "(399, 399)"
      ]
     },
     "execution_count": 267,
     "metadata": {},
     "output_type": "execute_result"
    }
   ],
   "source": [
    "binary_graph = graph.copy()\n",
    "binary_graph[graph>0]=1\n",
    "binary_graph_of_reps_only = binary_graph[1:,1:]\n",
    "binary_graph_of_reps_only.shape"
   ]
  },
  {
   "cell_type": "code",
   "execution_count": 268,
   "metadata": {},
   "outputs": [],
   "source": [
    "\"\"\"\n",
    "shortest path algorithm - BFS\n",
    "\n",
    "graph representation: adjacency dict\n",
    "\"\"\"\n",
    "\n",
    "from collections import deque\n",
    "\n",
    "def adjacency_matrix_to_dict(matrix):\n",
    "    n = matrix.shape[0]\n",
    "    g_dict = {k:set([]) for k in range(n)}\n",
    "    \n",
    "    for i in range(n):\n",
    "        for j in range(n):\n",
    "            if matrix[i][j]:\n",
    "                g_dict[i].add(j)\n",
    "    g_dict = {k:list(v) for k,v in g_dict.items()}\n",
    "    return g_dict\n",
    "\n"
   ]
  },
  {
   "cell_type": "code",
   "execution_count": 269,
   "metadata": {},
   "outputs": [],
   "source": [
    "adjacency_list = adjacency_matrix_to_dict(binary_graph)"
   ]
  },
  {
   "cell_type": "code",
   "execution_count": 277,
   "metadata": {},
   "outputs": [
    {
     "data": {
      "text/plain": [
       "[11, 397, 12]"
      ]
     },
     "execution_count": 277,
     "metadata": {},
     "output_type": "execute_result"
    }
   ],
   "source": [
    "def BFS(G,start,end):\n",
    "    #assert start in G and end in G, 'start (or) end node not in Graph'\n",
    "    #assert G[start] and G[end], 'start (or) end nodes are disjoint'\n",
    "    q = deque([])\n",
    "    q.append([start])\n",
    "    \n",
    "    visited =set([start])\n",
    "    path = []\n",
    "    \n",
    "    while q:\n",
    "        \n",
    "        path = q.popleft()\n",
    "        node = path[-1]\n",
    "        if node == end:\n",
    "            return path\n",
    "        else:\n",
    "            for adjacent in G.get(node,[node]):\n",
    "                new_path = list(path)\n",
    "                new_path.append(adjacent)\n",
    "                q.append(new_path)\n",
    " \n",
    "    return []\n",
    "\n",
    "BFS(adjacency_list,11,12)"
   ]
  },
  {
   "cell_type": "code",
   "execution_count": 271,
   "metadata": {},
   "outputs": [
    {
     "data": {
      "text/plain": [
       "{0: [257,\n",
       "  2,\n",
       "  255,\n",
       "  387,\n",
       "  383,\n",
       "  137,\n",
       "  395,\n",
       "  12,\n",
       "  143,\n",
       "  17,\n",
       "  273,\n",
       "  276,\n",
       "  23,\n",
       "  28,\n",
       "  158,\n",
       "  33,\n",
       "  34,\n",
       "  163,\n",
       "  164,\n",
       "  169,\n",
       "  42,\n",
       "  298,\n",
       "  46,\n",
       "  47,\n",
       "  63,\n",
       "  320,\n",
       "  323,\n",
       "  68,\n",
       "  72,\n",
       "  73,\n",
       "  329,\n",
       "  341,\n",
       "  86,\n",
       "  351,\n",
       "  98,\n",
       "  354,\n",
       "  357,\n",
       "  104,\n",
       "  106,\n",
       "  362,\n",
       "  367,\n",
       "  127],\n",
       " 1: [384, 2, 4, 392, 399, 16, 112, 88, 94],\n",
       " 2: [0, 1, 384, 3, 4, 7, 167, 73, 169, 170, 394, 397, 17, 52, 377, 58],\n",
       " 3: [33, 2, 9, 169, 367, 55, 24, 58, 159],\n",
       " 4: [1, 2, 392, 16, 52],\n",
       " 5: [16, 9, 52, 396],\n",
       " 6: [],\n",
       " 7: [2, 165, 394, 44, 13, 52, 58],\n",
       " 8: [389, 398, 112, 50, 374, 88],\n",
       " 9: [3, 5, 396, 16, 55, 24, 89],\n",
       " 10: [],\n",
       " 11: [165, 394, 141, 397, 20],\n",
       " 12: [0, 136, 393, 397, 86, 27],\n",
       " 13: [58, 44, 165, 7],\n",
       " 14: [],\n",
       " 15: [],\n",
       " 16: [1, 4, 5, 392, 9, 398, 52, 88, 89],\n",
       " 17: [0, 384, 2, 387, 94],\n",
       " 18: [],\n",
       " 19: [],\n",
       " 20: [168, 393, 11, 109, 141, 397, 378, 27, 93],\n",
       " 21: [],\n",
       " 22: [393, 163],\n",
       " 23: [0, 34, 323, 50, 374, 255],\n",
       " 24: [320, 33, 386, 3, 388, 9, 371, 89, 159],\n",
       " 25: [],\n",
       " 26: [],\n",
       " 27: [393, 12, 20, 397],\n",
       " 28: [0, 387, 42, 46, 47, 63],\n",
       " 29: [320, 34, 371],\n",
       " 30: [],\n",
       " 31: [],\n",
       " 32: [],\n",
       " 33: [0, 320, 3, 367, 24, 159],\n",
       " 34: [0, 320, 323, 50, 23, 29],\n",
       " 35: [],\n",
       " 36: [],\n",
       " 37: [],\n",
       " 38: [],\n",
       " 39: [],\n",
       " 40: [],\n",
       " 41: [],\n",
       " 42: [0, 387, 28, 47],\n",
       " 43: [],\n",
       " 44: [165, 71, 7, 13, 377],\n",
       " 45: [],\n",
       " 46: [0, 143, 28, 63, 127],\n",
       " 47: [0, 42, 28],\n",
       " 48: [],\n",
       " 49: [],\n",
       " 50: [34, 389, 391, 8, 398, 371, 374, 23],\n",
       " 51: [],\n",
       " 52: [2, 4, 5, 7, 170, 394, 396, 16],\n",
       " 53: [],\n",
       " 54: [],\n",
       " 55: [9, 58, 3, 396],\n",
       " 56: [],\n",
       " 57: [],\n",
       " 58: [2, 3, 7, 396, 13, 55],\n",
       " 59: [],\n",
       " 60: [],\n",
       " 61: [],\n",
       " 62: [],\n",
       " 63: [0, 28, 46, 143],\n",
       " 64: [],\n",
       " 65: [],\n",
       " 66: [],\n",
       " 67: [],\n",
       " 68: [0, 378, 104, 351],\n",
       " 69: [],\n",
       " 70: [],\n",
       " 71: [357, 165, 106, 395, 44, 341, 377, 383],\n",
       " 72: [0, 98, 164, 399, 340],\n",
       " 73: [0, 2, 397],\n",
       " 74: [],\n",
       " 75: [],\n",
       " 76: [],\n",
       " 77: [],\n",
       " 78: [],\n",
       " 79: [],\n",
       " 80: [],\n",
       " 81: [],\n",
       " 82: [],\n",
       " 83: [],\n",
       " 84: [],\n",
       " 85: [],\n",
       " 86: [0, 136, 329, 362, 393, 12, 276],\n",
       " 87: [],\n",
       " 88: [1, 8, 398, 112, 16],\n",
       " 89: [16, 9, 398, 24],\n",
       " 90: [],\n",
       " 91: [],\n",
       " 92: [],\n",
       " 93: [163, 109, 20, 378, 158, 351],\n",
       " 94: [384, 1, 387, 399, 17],\n",
       " 95: [],\n",
       " 96: [],\n",
       " 97: [],\n",
       " 98: [0, 72, 366, 255],\n",
       " 99: [],\n",
       " 100: [],\n",
       " 101: [],\n",
       " 102: [],\n",
       " 103: [],\n",
       " 104: [0, 257, 68, 168],\n",
       " 105: [],\n",
       " 106: [0, 357, 341, 71],\n",
       " 107: [],\n",
       " 108: [],\n",
       " 109: [393, 163, 20, 93],\n",
       " 110: [],\n",
       " 111: [],\n",
       " 112: [1, 8, 366, 399, 340, 88],\n",
       " 113: [],\n",
       " 114: [],\n",
       " 115: [],\n",
       " 116: [],\n",
       " 117: [],\n",
       " 118: [],\n",
       " 119: [],\n",
       " 120: [],\n",
       " 121: [],\n",
       " 122: [],\n",
       " 123: [],\n",
       " 124: [],\n",
       " 125: [],\n",
       " 126: [],\n",
       " 127: [0, 137, 46, 329],\n",
       " 128: [],\n",
       " 129: [],\n",
       " 130: [],\n",
       " 131: [],\n",
       " 132: [],\n",
       " 133: [],\n",
       " 134: [],\n",
       " 135: [],\n",
       " 136: [12, 276, 86],\n",
       " 137: [0, 273, 127],\n",
       " 138: [],\n",
       " 139: [],\n",
       " 140: [],\n",
       " 141: [168, 11, 20, 395],\n",
       " 142: [],\n",
       " 143: [0, 46, 63],\n",
       " 144: [],\n",
       " 145: [],\n",
       " 146: [],\n",
       " 147: [],\n",
       " 148: [],\n",
       " 149: [],\n",
       " 150: [],\n",
       " 151: [],\n",
       " 152: [],\n",
       " 153: [],\n",
       " 154: [],\n",
       " 155: [],\n",
       " 156: [],\n",
       " 157: [],\n",
       " 158: [0, 93, 351],\n",
       " 159: [24, 33, 3],\n",
       " 160: [],\n",
       " 161: [],\n",
       " 162: [],\n",
       " 163: [0, 362, 109, 22, 93],\n",
       " 164: [0, 72, 387, 399],\n",
       " 165: [71, 7, 394, 11, 44, 13, 395],\n",
       " 166: [],\n",
       " 167: [169, 2, 377, 383],\n",
       " 168: [257, 104, 395, 141, 20, 378],\n",
       " 169: [0, 2, 3, 354, 167, 367, 383],\n",
       " 170: [2, 52, 394],\n",
       " 171: [],\n",
       " 172: [],\n",
       " 173: [],\n",
       " 174: [],\n",
       " 175: [],\n",
       " 176: [],\n",
       " 177: [],\n",
       " 178: [],\n",
       " 179: [],\n",
       " 180: [],\n",
       " 181: [],\n",
       " 182: [],\n",
       " 183: [],\n",
       " 184: [],\n",
       " 185: [],\n",
       " 186: [],\n",
       " 187: [],\n",
       " 188: [],\n",
       " 189: [],\n",
       " 190: [],\n",
       " 191: [],\n",
       " 192: [],\n",
       " 193: [],\n",
       " 194: [],\n",
       " 195: [],\n",
       " 196: [],\n",
       " 197: [],\n",
       " 198: [],\n",
       " 199: [],\n",
       " 200: [],\n",
       " 201: [],\n",
       " 202: [],\n",
       " 203: [],\n",
       " 204: [],\n",
       " 205: [],\n",
       " 206: [],\n",
       " 207: [],\n",
       " 208: [],\n",
       " 209: [],\n",
       " 210: [],\n",
       " 211: [],\n",
       " 212: [],\n",
       " 213: [],\n",
       " 214: [],\n",
       " 215: [],\n",
       " 216: [],\n",
       " 217: [],\n",
       " 218: [],\n",
       " 219: [],\n",
       " 220: [],\n",
       " 221: [],\n",
       " 222: [],\n",
       " 223: [],\n",
       " 224: [],\n",
       " 225: [],\n",
       " 226: [],\n",
       " 227: [],\n",
       " 228: [],\n",
       " 229: [],\n",
       " 230: [],\n",
       " 231: [],\n",
       " 232: [],\n",
       " 233: [],\n",
       " 234: [],\n",
       " 235: [],\n",
       " 236: [],\n",
       " 237: [],\n",
       " 238: [],\n",
       " 239: [],\n",
       " 240: [],\n",
       " 241: [],\n",
       " 242: [],\n",
       " 243: [],\n",
       " 244: [],\n",
       " 245: [],\n",
       " 246: [],\n",
       " 247: [],\n",
       " 248: [],\n",
       " 249: [],\n",
       " 250: [],\n",
       " 251: [],\n",
       " 252: [],\n",
       " 253: [],\n",
       " 254: [],\n",
       " 255: [0, 98, 374, 23],\n",
       " 256: [],\n",
       " 257: [0, 298, 104, 168],\n",
       " 258: [],\n",
       " 259: [],\n",
       " 260: [],\n",
       " 261: [],\n",
       " 262: [],\n",
       " 263: [],\n",
       " 264: [],\n",
       " 265: [],\n",
       " 266: [],\n",
       " 267: [],\n",
       " 268: [],\n",
       " 269: [],\n",
       " 270: [],\n",
       " 271: [],\n",
       " 272: [],\n",
       " 273: [0, 137, 329],\n",
       " 274: [],\n",
       " 275: [],\n",
       " 276: [0, 329, 136, 86],\n",
       " 277: [],\n",
       " 278: [],\n",
       " 279: [],\n",
       " 280: [],\n",
       " 281: [],\n",
       " 282: [],\n",
       " 283: [],\n",
       " 284: [],\n",
       " 285: [],\n",
       " 286: [],\n",
       " 287: [],\n",
       " 288: [],\n",
       " 289: [],\n",
       " 290: [],\n",
       " 291: [],\n",
       " 292: [],\n",
       " 293: [],\n",
       " 294: [],\n",
       " 295: [],\n",
       " 296: [],\n",
       " 297: [],\n",
       " 298: [0, 257, 395],\n",
       " 299: [],\n",
       " 300: [],\n",
       " 301: [],\n",
       " 302: [],\n",
       " 303: [],\n",
       " 304: [],\n",
       " 305: [],\n",
       " 306: [],\n",
       " 307: [],\n",
       " 308: [],\n",
       " 309: [],\n",
       " 310: [],\n",
       " 311: [],\n",
       " 312: [],\n",
       " 313: [],\n",
       " 314: [],\n",
       " 315: [],\n",
       " 316: [],\n",
       " 317: [],\n",
       " 318: [],\n",
       " 319: [],\n",
       " 320: [0, 33, 34, 371, 24, 29],\n",
       " 321: [],\n",
       " 322: [],\n",
       " 323: [0, 34, 23],\n",
       " 324: [],\n",
       " 325: [],\n",
       " 326: [],\n",
       " 327: [],\n",
       " 328: [],\n",
       " 329: [0, 273, 276, 86, 127],\n",
       " 330: [],\n",
       " 331: [],\n",
       " 332: [],\n",
       " 333: [],\n",
       " 334: [],\n",
       " 335: [],\n",
       " 336: [],\n",
       " 337: [],\n",
       " 338: [],\n",
       " 339: [],\n",
       " 340: [72, 112, 366, 399],\n",
       " 341: [0, 106, 395, 71],\n",
       " 342: [],\n",
       " 343: [],\n",
       " 344: [],\n",
       " 345: [],\n",
       " 346: [],\n",
       " 347: [],\n",
       " 348: [],\n",
       " 349: [],\n",
       " 350: [],\n",
       " 351: [0, 68, 93, 158],\n",
       " 352: [],\n",
       " 353: [],\n",
       " 354: [0, 169],\n",
       " 355: [],\n",
       " 356: [],\n",
       " 357: [0, 106, 383, 71],\n",
       " 358: [],\n",
       " 359: [],\n",
       " 360: [],\n",
       " 361: [],\n",
       " 362: [0, 393, 163, 86],\n",
       " 363: [],\n",
       " 364: [],\n",
       " 365: [],\n",
       " 366: [112, 98, 340, 374],\n",
       " 367: [0, 33, 3, 169],\n",
       " 368: [],\n",
       " 369: [],\n",
       " 370: [],\n",
       " 371: [320, 386, 391, 50, 24, 29],\n",
       " 372: [],\n",
       " 373: [],\n",
       " 374: [389, 8, 366, 50, 23, 255],\n",
       " 375: [],\n",
       " 376: [],\n",
       " 377: [167, 2, 44, 71],\n",
       " 378: [168, 20, 93, 68],\n",
       " 379: [],\n",
       " 380: [],\n",
       " 381: [],\n",
       " 382: [],\n",
       " 383: [0, 357, 167, 71, 169],\n",
       " 384: [1, 2, 17, 94],\n",
       " 385: [],\n",
       " 386: [24, 371, 388],\n",
       " 387: [0, 164, 42, 399, 17, 28, 94],\n",
       " 388: [24, 386, 398, 391],\n",
       " 389: [8, 50, 374],\n",
       " 390: [],\n",
       " 391: [50, 371, 388, 398],\n",
       " 392: [16, 1, 4],\n",
       " 393: [362, 12, 109, 20, 86, 22, 27],\n",
       " 394: [2, 165, 7, 170, 11, 397, 52],\n",
       " 395: [0, 165, 71, 168, 298, 141, 341],\n",
       " 396: [5, 9, 52, 55, 58],\n",
       " 397: [2, 73, 394, 11, 12, 20, 27],\n",
       " 398: [388, 391, 8, 16, 50, 88, 89],\n",
       " 399: [1, 387, 164, 72, 112, 340, 94]}"
      ]
     },
     "execution_count": 271,
     "metadata": {},
     "output_type": "execute_result"
    }
   ],
   "source": [
    "adjacency_list"
   ]
  },
  {
   "cell_type": "code",
   "execution_count": null,
   "metadata": {},
   "outputs": [],
   "source": []
  },
  {
   "cell_type": "code",
   "execution_count": null,
   "metadata": {},
   "outputs": [],
   "source": [
    "\"\"\"\n",
    "ASIDE: what's a better way to construct a graph?\n",
    "\n",
    "Currently, using the color image as ground truth is a bad a idea because it is a lossy representation of actual\n",
    "connections.\n",
    "\n",
    "The best way to build a graph is to run VQ VAE on data and keep track of transitions \n",
    "\n",
    "e.g. each time z_i -> z_j and i != j, hash the representation and +=1 in some monster adjacency dictionary\n",
    "to keep the representations fixed, you can pick to N reps and then only count if the transition is in one of those \n",
    "reps\n",
    "\"\"\""
   ]
  },
  {
   "cell_type": "code",
   "execution_count": null,
   "metadata": {},
   "outputs": [],
   "source": [
    "\"\"\"\n",
    "Run local policy with a reward specified from global policy\n",
    "\n",
    "Given start observation o_1 and end observation o_2, construct plan with graph\n",
    "\n",
    "E.g.\n",
    "suppose o_1 -> z_7 and o_2 -> z_9 construct graph z_7 -> z_0 -> z_1 -> z_9\n",
    "and then train goal conditioned policy that needs to solve curriculum\n",
    "pi(a|o,z_goal) where z_goal = z_0 then z_1 and then z_9 depending on which current z_j you're in\n",
    "\n",
    "\n",
    "\"\"\"\n",
    "\n",
    "\"\"\"\n",
    "What kind of policy should we run?\n",
    "\n",
    "Off-policy:\n",
    "\n",
    "In the off-policy case, we can collect a bunch of data (i.e. the space will be explored), we can then \n",
    "- collect a replay buffer of observations\n",
    "- then train a VQ VAE\n",
    "- then create a replay buffer with latents \n",
    "- then learn a goal conditioned policy\n",
    "\n",
    "How do we learn goal conditioned policies? Try the HER thing\n",
    "\n",
    "HER thing: input concatenated state || goal and train policy that way\n",
    "\n",
    "how does it work with representation learning?\n",
    "\n",
    "- after each trajectory (z_1,_z_1,z_17,z_5,z_5, etc) relabel as though agent was trying to achieve\n",
    "some latent state in the trajectory (e.g. z_j) and store transitions (z_i || z_j) in the replay buffer\n",
    "\n",
    "(Notes:\n",
    "- by the way you can go through ALL the representations achieved\n",
    "- maybe best to just reward the final latent observation so that it is always forward thinking\n",
    ")\n",
    "- after this policy is trained it should be able to arrive at any latent goal state z_i\n",
    "\n",
    "how do we treat representations - i.e. use entire matrix or an encoding?\n",
    "\n",
    "\n",
    "PLAN:\n",
    "\n",
    "Try with Block world. \n",
    "- Train VQ VAE on random block world\n",
    "- Train HER on latent representation \n",
    "    - flatten the 8x8 latent image into a 64 dim vector\n",
    "- Optional: provide .1 points for moving to different representation than current one, and 1 point for moving to\n",
    "  HER representation \n",
    "- use DDPG or TD3 variant (continuous actions)\n",
    "- At test time make a plan z_1 - z_2 - z_N and have agent reach each goal individually\n",
    "- Retrain VQ VAE periodically, and reconstruct graph\n",
    "\n",
    "options for reward relabling\n",
    "\n",
    "option 1: teach agent to reach any goal\n",
    "1. train time - normal HER\n",
    "2. test time - make a plan z_1 -> z_2 ... -> z_g and have policy follow plan\n",
    "\n",
    "option 2: teach agent to reach goal sequence\n",
    "1. train time - pick random future goal like in HER, find graph to said goal in path and reward path states\n",
    "2. test time - same as (2) previously\n",
    "\n",
    "option 1 is simpler let's do that\n",
    "\n",
    "\n",
    "\n",
    "\n",
    "FUTURE:\n",
    "\n",
    "train in robotic simulators e.g. fetch reach\n",
    "\"\"\""
   ]
  },
  {
   "cell_type": "code",
   "execution_count": null,
   "metadata": {},
   "outputs": [],
   "source": [
    "\"\"\"\n",
    "how do we make a better / cleaner graph?\n",
    "\n",
    "first, run a VQ VAE over the data and construct the graph from transitions NOT from the final color image\n",
    "\n",
    "we can choose N representations put them in set S and run the VQ VAE over the data\n",
    "then if the encoding is inside the set S, we keep it, if not we set it to the null encoding \n",
    "\n",
    "\n",
    "\"\"\""
   ]
  },
  {
   "cell_type": "code",
   "execution_count": 6,
   "metadata": {},
   "outputs": [],
   "source": [
    "from torch.utils.data import DataLoader\n",
    "\n",
    "train_loader = DataLoader(training_data,\n",
    "                          batch_size=256,\n",
    "                          shuffle=False,\n",
    "                          pin_memory=True)\n",
    "\n",
    "train_loader_over_paths = DataLoader(training_data,\n",
    "                          batch_size=100,\n",
    "                          shuffle=False,\n",
    "                          pin_memory=True)"
   ]
  },
  {
   "cell_type": "code",
   "execution_count": 7,
   "metadata": {},
   "outputs": [
    {
     "data": {
      "text/plain": [
       "torch.Size([256, 3, 32, 32])"
      ]
     },
     "execution_count": 7,
     "metadata": {},
     "output_type": "execute_result"
    }
   ],
   "source": [
    "data = next(iter(train_loader))\n",
    "data[0].shape"
   ]
  },
  {
   "cell_type": "code",
   "execution_count": 37,
   "metadata": {},
   "outputs": [
    {
     "name": "stderr",
     "output_type": "stream",
     "text": [
      "0it [00:00, ?it/s]/opt/anaconda3/envs/research/lib/python3.7/site-packages/ipykernel_launcher.py:5: UserWarning: To copy construct from a tensor, it is recommended to use sourceTensor.clone().detach() or sourceTensor.clone().detach().requires_grad_(True), rather than torch.tensor(sourceTensor).\n",
      "  \"\"\"\n",
      "704it [00:30, 23.37it/s]\n"
     ]
    }
   ],
   "source": [
    "from tqdm import tqdm \n",
    "\n",
    "def _encode_one_batch(data_batch):\n",
    "    x,_ = data_batch\n",
    "    x = torch.tensor(x).float().to(device)\n",
    "    #x = x.permute(0, 1,2, 3).contiguous()\n",
    "    x = x.to(device)\n",
    "    vq_encoder_output = model.pre_quantization_conv(model.encoder(x))\n",
    "    _, z_q, _, _, e_indices = model.vector_quantization(\n",
    "        vq_encoder_output)\n",
    "\n",
    "\n",
    "    x_recon = model.decoder(z_q)\n",
    "    return x, x_recon, z_q, e_indices\n",
    "\n",
    "def _encode_data(min_rep_count=10):\n",
    "\n",
    "    d = {}\n",
    "    hash_to_rep = {}\n",
    "    # iterate over all data\n",
    "\n",
    "    for i, data in tqdm(enumerate(iter(train_loader))):\n",
    "        _, _, _, e_indices = _encode_one_batch(data)\n",
    "        \n",
    "        # 64 because the encoding should be z.shape = (8,8,n_embeddings)\n",
    "        n = int(len(e_indices)/64)\n",
    "        for j in range(n):\n",
    "            k = e_indices[64*j:64*j+64].squeeze().cpu().detach().numpy()\n",
    "            hash_ = hash(tuple(k))\n",
    "\n",
    "            if hash_ not in d:\n",
    "                d[hash_] = 1\n",
    "            else:\n",
    "                d[hash_] += 1\n",
    "            \n",
    "            if hash_ not in hash_to_rep:\n",
    "                hash_to_rep[hash_] = data[0][j]\n",
    "            \n",
    "    rep_dict = dict((k, v) for k, v in d.items() if v >= min_rep_count)\n",
    "    return rep_dict,hash_to_rep\n",
    "\n",
    "rep_dict,hash_to_rep = _encode_data()"
   ]
  },
  {
   "cell_type": "code",
   "execution_count": 157,
   "metadata": {},
   "outputs": [],
   "source": [
    "down_sampled_rep_dict = dict((k, v) for k, v in rep_dict.items() if v >= 100)"
   ]
  },
  {
   "cell_type": "code",
   "execution_count": 158,
   "metadata": {},
   "outputs": [
    {
     "data": {
      "text/plain": [
       "260"
      ]
     },
     "execution_count": 158,
     "metadata": {},
     "output_type": "execute_result"
    }
   ],
   "source": [
    "len(down_sampled_rep_dict.keys())"
   ]
  },
  {
   "cell_type": "code",
   "execution_count": 159,
   "metadata": {},
   "outputs": [
    {
     "name": "stderr",
     "output_type": "stream",
     "text": [
      "0it [00:00, ?it/s]/opt/anaconda3/envs/research/lib/python3.7/site-packages/ipykernel_launcher.py:5: UserWarning: To copy construct from a tensor, it is recommended to use sourceTensor.clone().detach() or sourceTensor.clone().detach().requires_grad_(True), rather than torch.tensor(sourceTensor).\n",
      "  \"\"\"\n",
      "1800it [00:30, 58.62it/s]\n"
     ]
    }
   ],
   "source": [
    "def _build_graph():\n",
    "\n",
    "    graph = {k: set([]) for k in down_sampled_rep_dict.keys()}\n",
    " \n",
    "    # iterate over all data\n",
    "\n",
    "    for i, data in tqdm(enumerate(iter(train_loader_over_paths))):\n",
    "        _, _, _, e_indices = _encode_one_batch(data)\n",
    "\n",
    "        k = e_indices[0:64].squeeze().cpu().detach().numpy()\n",
    "        last_hash_ = hash(tuple(k))\n",
    "\n",
    "        # 64 because the encoding should be z.shape = (8,8,n_embeddings)\n",
    "        n = int(len(e_indices)/64)\n",
    "        for i in range(n):\n",
    "            k = e_indices[64*i:64*i+64].squeeze().cpu().detach().numpy()\n",
    "            hash_ = hash(tuple(k))\n",
    "            if hash_ != last_hash_ and hash_ in down_sampled_rep_dict and last_hash_ in down_sampled_rep_dict:\n",
    "                graph[last_hash_].add(hash_)\n",
    "                \n",
    "    return graph\n",
    "\n",
    "graph = _build_graph()"
   ]
  },
  {
   "cell_type": "code",
   "execution_count": 160,
   "metadata": {},
   "outputs": [
    {
     "data": {
      "text/plain": [
       "174"
      ]
     },
     "execution_count": 160,
     "metadata": {},
     "output_type": "execute_result"
    }
   ],
   "source": [
    "len(graph.keys())\n",
    "\n",
    "non_empty_count = 0\n",
    "for v in graph.values():\n",
    "    if len(v) > 0:\n",
    "        non_empty_count+=1\n",
    "        \n",
    "non_empty_count"
   ]
  },
  {
   "cell_type": "code",
   "execution_count": 161,
   "metadata": {},
   "outputs": [],
   "source": [
    "g = {\n",
    "         'A': set(['B', 'C']),\n",
    "         'B': set(['A', 'D', 'E']),\n",
    "         'C': set(['A', 'F']),\n",
    "         'D': set(['B']),\n",
    "         'E': set(['B', 'F']),\n",
    "         'F': set(['C', 'E'])\n",
    "         }\n",
    "def retunShortestPath(graph, start, end):\n",
    "\n",
    "    queue = [(start,[start])]\n",
    "    visited = set()\n",
    "\n",
    "    while queue:\n",
    "        vertex, path = queue.pop(0)\n",
    "        visited.add(vertex)\n",
    "        for node in graph[vertex]:\n",
    "            if node == end:\n",
    "                return path + [end]\n",
    "            else:\n",
    "                if node not in visited:\n",
    "                    visited.add(node)\n",
    "                    queue.append((node, path + [node]))\n",
    "                    \n",
    "    #print('no path between',start,'and',end)\n",
    "    return False\n",
    "                    \n",
    "#retunShortestPath(graph,4023369468260535701,6211882730637340610)"
   ]
  },
  {
   "cell_type": "code",
   "execution_count": 638,
   "metadata": {
    "scrolled": false
   },
   "outputs": [
    {
     "name": "stderr",
     "output_type": "stream",
     "text": [
      "Clipping input data to the valid range for imshow with RGB data ([0..1] for floats or [0..255] for integers).\n"
     ]
    },
    {
     "data": {
      "image/png": "[encoded data removed]",
      "text/plain": [
       "<Figure size 432x288 with 1 Axes>"
      ]
     },
     "metadata": {
      "needs_background": "light"
     },
     "output_type": "display_data"
    }
   ],
   "source": [
    "import numpy as np\n",
    "\n",
    "all_paths = []\n",
    "\n",
    "n = 6\n",
    "\n",
    "for _ in range(1):\n",
    "    path_found = False\n",
    "    while not path_found:\n",
    "        a = np.random.choice(list(graph.keys()))\n",
    "\n",
    "        b = np.random.choice(list(graph.keys()))\n",
    "\n",
    "        path_found = retunShortestPath(graph,a,b)\n",
    "        if path_found:\n",
    "            if len(path_found)!=n:\n",
    "                path_found=False\n",
    "                \n",
    "    all_paths+=path_found\n",
    "\n",
    "imgs = []\n",
    "for id_ in all_paths:\n",
    "    img = hash_to_rep[id_]\n",
    "    imgs.append(img)\n",
    "imgs = torch.stack(imgs)\n",
    "display_image_grid(imgs,6)"
   ]
  },
  {
   "cell_type": "code",
   "execution_count": 550,
   "metadata": {},
   "outputs": [],
   "source": [
    "imgs = []\n",
    "for id_ in all_paths:\n",
    "    img = hash_to_rep[id_]\n",
    "    imgs.append(img)\n",
    "imgs = torch.stack(imgs)\n"
   ]
  },
  {
   "cell_type": "code",
   "execution_count": 597,
   "metadata": {},
   "outputs": [
    {
     "name": "stderr",
     "output_type": "stream",
     "text": [
      "Clipping input data to the valid range for imshow with RGB data ([0..1] for floats or [0..255] for integers).\n"
     ]
    },
    {
     "data": {
      "image/png": "[encoded data removed]",
      "text/plain": [
       "<Figure size 432x288 with 1 Axes>"
      ]
     },
     "metadata": {
      "needs_background": "light"
     },
     "output_type": "display_data"
    }
   ],
   "source": [
    "imgs = []\n",
    "ids = []\n",
    "for id_ in list(graph.keys())[56:64]:\n",
    "    img = hash_to_rep[id_]\n",
    "    imgs.append(img)\n",
    "    ids.append(id_)\n",
    "imgs = torch.stack(imgs)\n",
    "display_image_grid(imgs,4)"
   ]
  },
  {
   "cell_type": "code",
   "execution_count": 595,
   "metadata": {},
   "outputs": [
    {
     "data": {
      "text/plain": [
       "tensor(0.0036)"
      ]
     },
     "execution_count": 595,
     "metadata": {},
     "output_type": "execute_result"
    }
   ],
   "source": [
    "torch.mean((hash_to_rep[ids[1]]- hash_to_rep[ids[4]])**2)"
   ]
  },
  {
   "cell_type": "code",
   "execution_count": 588,
   "metadata": {},
   "outputs": [
    {
     "data": {
      "text/plain": [
       "tensor(0.0188)"
      ]
     },
     "execution_count": 588,
     "metadata": {},
     "output_type": "execute_result"
    }
   ],
   "source": [
    "torch.mean((hash_to_rep[ids[7]]- hash_to_rep[ids[5]])**2)"
   ]
  },
  {
   "cell_type": "code",
   "execution_count": null,
   "metadata": {},
   "outputs": [],
   "source": [
    "\"\"\"\n",
    "there is notion of distance between representations\n",
    "\n",
    "suppose I landed in a similar representation, I can just compare similarity to prototype representation\n",
    "and if it's close then I say I've reached it\n",
    "\"\"\""
   ]
  },
  {
   "cell_type": "code",
   "execution_count": 622,
   "metadata": {},
   "outputs": [
    {
     "data": {
      "text/plain": [
       "torch.Size([3, 32, 32])"
      ]
     },
     "execution_count": 622,
     "metadata": {},
     "output_type": "execute_result"
    }
   ],
   "source": [
    "((hash_to_rep[ids[7]]- hash_to_rep[ids[5]])**2).shape"
   ]
  },
  {
   "cell_type": "code",
   "execution_count": null,
   "metadata": {},
   "outputs": [],
   "source": []
  }
 ],
 "metadata": {
  "kernelspec": {
   "display_name": "Python 3",
   "language": "python",
   "name": "python3"
  },
  "language_info": {
   "codemirror_mode": {
    "name": "ipython",
    "version": 3
   },
   "file_extension": ".py",
   "mimetype": "text/x-python",
   "name": "python",
   "nbconvert_exporter": "python",
   "pygments_lexer": "ipython3",
   "version": "3.7.3"
  }
 },
 "nbformat": 4,
 "nbformat_minor": 2
}
